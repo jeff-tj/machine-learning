{
 "cells": [
  {
   "cell_type": "markdown",
   "metadata": {},
   "source": [
    "# Project 7 - Identifying Enron POIs\n",
    "\n",
    "This notebook will be a rough guide to my thoughts in how I explored the data, enabling visualisation of the data.\n",
    "\n",
    "*** Questions still to answer ***\n",
    "* Using lasso regression on binary labels?\n",
    "* Zeros for ratios ok, but not for other data - how top ensure this?\n",
    "* Adding text based features into an array of other values for machine learning"
   ]
  },
  {
   "cell_type": "code",
   "execution_count": 1,
   "metadata": {
    "collapsed": false
   },
   "outputs": [
    {
     "name": "stderr",
     "output_type": "stream",
     "text": [
      "/anaconda/lib/python2.7/site-packages/sklearn/cross_validation.py:44: DeprecationWarning: This module was deprecated in version 0.18 in favor of the model_selection module into which all the refactored classes and functions are moved. Also note that the interface of the new CV iterators are different from that of this module. This module will be removed in 0.20.\n",
      "  \"This module will be removed in 0.20.\", DeprecationWarning)\n"
     ]
    }
   ],
   "source": [
    "# Initialise initial libraries and requirements\n",
    "# Copied from poi_id.py\n",
    "import sys\n",
    "import os\n",
    "import pickle\n",
    "import numpy as np\n",
    "import matplotlib.pyplot as plt\n",
    "sys.path.append(\"../tools/\")\n",
    "sys.path.append(\"../final_project/emails_by_address/\")\n",
    "\n",
    "from feature_format import featureFormat, targetFeatureSplit\n",
    "from tester import dump_classifier_and_data\n",
    "from sklearn.cross_validation import train_test_split \n",
    "from sklearn.model_selection import KFold\n",
    "from time import time"
   ]
  },
  {
   "cell_type": "code",
   "execution_count": 2,
   "metadata": {
    "collapsed": false
   },
   "outputs": [],
   "source": [
    "### Task 1: Select what features you'll use.\n",
    "### features_list is a list of strings, each of which is a feature name.\n",
    "### The first feature must be \"poi\".\n",
    "# Add a full list of the features available to us\n",
    "fin_features = [\"salary\",\n",
    "                \"deferral_payments\",\n",
    "                \"total_payments\",\n",
    "                \"loan_advances\",\n",
    "                \"bonus\",\n",
    "                \"restricted_stock_deferred\",\n",
    "                \"deferred_income\",\n",
    "                \"total_stock_value\",\n",
    "                \"expenses\",\n",
    "                \"exercised_stock_options\",\n",
    "                \"other\",\n",
    "                \"long_term_incentive\",\n",
    "                \"restricted_stock\",\n",
    "                \"director_fees\"]\n",
    "email_features = [\"to_messages\",\n",
    "                  \"email_address\",\n",
    "                  \"from_poi_to_this_person\",\n",
    "                  \"from_messages\",\n",
    "                  \"from_this_person_to_poi\",\n",
    "                  \"shared_receipt_with_poi\"]\n",
    "features_list = [\"poi\"] # You will need to use more features\n",
    "\n",
    "### Load the dictionary containing the dataset\n",
    "with open(\"final_project_dataset.pkl\", \"r\") as data_file:\n",
    "    data_dict = pickle.load(data_file)\n",
    "    \n",
    "# Load features and split them out\n",
    "#data = featureFormat(data_dict, features_list)\n",
    "#labels, features = targetFeatureSplit(data)"
   ]
  },
  {
   "cell_type": "code",
   "execution_count": 3,
   "metadata": {
    "collapsed": false
   },
   "outputs": [
    {
     "name": "stdout",
     "output_type": "stream",
     "text": [
      "Number of persons:  146\n",
      "Number of POIs:  18.0\n"
     ]
    }
   ],
   "source": [
    "# Print some stats on our data\n",
    "# Test code: for key in dict; dict.keys()\n",
    "persons = data_dict.keys()\n",
    "print \"Number of persons: \", len(persons)\n",
    "# Display details about the financial features\n",
    "fin_feature_list = [\"poi\"]\n",
    "fin_feature_list.extend(fin_features)\n",
    "fin_data = featureFormat(data_dict, fin_feature_list, \n",
    "                         remove_NaN=False, remove_all_zeroes=False)\n",
    "fin_label, fin_features = targetFeatureSplit(fin_data)\n",
    "#print fin_data\n",
    "print \"Number of POIs: \", sum(fin_label)"
   ]
  },
  {
   "cell_type": "code",
   "execution_count": 4,
   "metadata": {
    "collapsed": true
   },
   "outputs": [],
   "source": [
    "# Function to quick plot\n",
    "def poi_scatter(labels, data, x=0, y=1, x_label=None, y_label=None, size=250):\n",
    "    \"\"\"\n",
    "    Function to quickly plot a scatter with poi marked out\n",
    "    Defaults to plotting the second column vs. first column\n",
    "    \"\"\"\n",
    "    n_data = len(labels)\n",
    "    x_poi = [data[ii][x] for ii in range(n_data) if labels[ii] == 1]\n",
    "    y_poi = [data[ii][y] for ii in range(n_data) if labels[ii] == 1]\n",
    "    x_npoi = [data[ii][x] for ii in range(n_data) if labels[ii] == 0]\n",
    "    y_npoi = [data[ii][y] for ii in range(n_data) if labels[ii] == 0]\n",
    "    plt.scatter(x_poi, y_poi, color=\"r\", label=\"poi\", s=size)\n",
    "    plt.scatter(x_npoi, y_npoi, color=\"b\", label=\"non_poi\", s=size)\n",
    "    plt.legend(scatterpoints=1)\n",
    "    if x_label is not None:\n",
    "        plt.xlabel(x_label)\n",
    "    if y_label is not None:\n",
    "        plt.ylabel(y_label)\n",
    "    plt.show()"
   ]
  },
  {
   "cell_type": "code",
   "execution_count": 9,
   "metadata": {
    "collapsed": false
   },
   "outputs": [
    {
     "data": {
      "image/png": "[encoded data removed]",
      "text/plain": [
       "<matplotlib.figure.Figure at 0x10396c8d0>"
      ]
     },
     "metadata": {},
     "output_type": "display_data"
    }
   ],
   "source": [
    "# Investigate some financial features (fft)\n",
    "# We don't look at total payments (since it is a combination of the other fields)\n",
    "# Also exclude director fees since in our eda we showed that it had little explanatory value\n",
    "fft_features = [\"poi\",\n",
    "                \"salary\",\n",
    "                \"deferral_payments\",\n",
    "                \"loan_advances\",\n",
    "                \"bonus\",\n",
    "                \"restricted_stock_deferred\",\n",
    "                \"deferred_income\",\n",
    "                \"total_stock_value\",\n",
    "                \"expenses\",\n",
    "                \"exercised_stock_options\",\n",
    "                \"other\",\n",
    "                \"long_term_incentive\",\n",
    "                \"restricted_stock\"]\n",
    "fft_data = featureFormat(data_dict, fft_features)\n",
    "fft_lbls, fft_ftrs = targetFeatureSplit(fft_data)\n",
    "\n",
    "poi_scatter(fft_lbls, fft_ftrs, y=3, x_label=\"salary\", y_label=\"bonus\", size=50)"
   ]
  },
  {
   "cell_type": "code",
   "execution_count": 12,
   "metadata": {
    "collapsed": false
   },
   "outputs": [
    {
     "data": {
      "text/plain": [
       "{'bonus': 97343619,\n",
       " 'deferral_payments': 32083396,\n",
       " 'deferred_income': -27992891,\n",
       " 'director_fees': 1398517,\n",
       " 'email_address': 'NaN',\n",
       " 'exercised_stock_options': 311764000,\n",
       " 'expenses': 5235198,\n",
       " 'from_messages': 'NaN',\n",
       " 'from_poi_to_this_person': 'NaN',\n",
       " 'from_this_person_to_poi': 'NaN',\n",
       " 'loan_advances': 83925000,\n",
       " 'long_term_incentive': 48521928,\n",
       " 'other': 42667589,\n",
       " 'poi': False,\n",
       " 'restricted_stock': 130322299,\n",
       " 'restricted_stock_deferred': -7576788,\n",
       " 'salary': 26704229,\n",
       " 'shared_receipt_with_poi': 'NaN',\n",
       " 'to_messages': 'NaN',\n",
       " 'total_payments': 309886585,\n",
       " 'total_stock_value': 434509511}"
      ]
     },
     "execution_count": 12,
     "metadata": {},
     "output_type": "execute_result"
    }
   ],
   "source": [
    "data_dict[\"TOTAL\"]"
   ]
  },
  {
   "cell_type": "code",
   "execution_count": 13,
   "metadata": {
    "collapsed": false
   },
   "outputs": [
    {
     "data": {
      "image/png": "[encoded data removed]",
      "text/plain": [
       "<matplotlib.figure.Figure at 0x10b9ca950>"
      ]
     },
     "metadata": {},
     "output_type": "display_data"
    }
   ],
   "source": [
    "# We can see that the total value is in our data from our graph. We remove and run again\n",
    "del data_dict[\"TOTAL\"]\n",
    "\n",
    "fft_data = featureFormat(data_dict, fft_features)\n",
    "fft_lbls, fft_ftrs = targetFeatureSplit(fft_data)\n",
    "\n",
    "poi_scatter(fft_lbls, fft_ftrs, y=3, x_label=\"salary\", y_label=\"bonus\", size=50)"
   ]
  },
  {
   "cell_type": "code",
   "execution_count": 17,
   "metadata": {
    "collapsed": false
   },
   "outputs": [
    {
     "name": "stdout",
     "output_type": "stream",
     "text": [
      "[ 0.76378952  0.17333893  0.02503492]\n",
      "First component: \n",
      "[ 0.01068208  0.00720184  0.61506517  0.065009   -0.00370098 -0.01166816\n",
      "  0.61329556  0.00072587  0.45426936  0.08988941  0.0335087   0.15955337]\n",
      "Second component: \n",
      "[ -3.51702855e-03  -1.87121301e-02   7.74770679e-01   6.61413522e-03\n",
      "   8.37626225e-03   3.35435057e-02  -4.60806350e-01  -9.34829743e-05\n",
      "  -4.24979253e-01   6.02540294e-02   3.82814151e-03  -3.91629565e-02]\n",
      "Third component: \n",
      "[ 0.03135174  0.03299178 -0.09783358  0.1085815  -0.30163829 -0.0027049\n",
      "  0.24581296  0.00319866 -0.50433732  0.10868049  0.02191418  0.74732338]\n"
     ]
    },
    {
     "data": {
      "image/png": "[encoded data removed]",
      "text/plain": [
       "<matplotlib.figure.Figure at 0x10f8244d0>"
      ]
     },
     "metadata": {},
     "output_type": "display_data"
    }
   ],
   "source": [
    "# The above graph much better. From our EDA we hypothesis that their may be latent variables\n",
    "# Obviously high performers would be paid well\n",
    "# However there may be a non-performance based element that could help us expose POIs\n",
    "# Use PCA to see if anything can be detected\n",
    "from sklearn.decomposition import PCA\n",
    "\n",
    "pca = PCA(n_components=3)\n",
    "# We limit the pca to 3 factors\n",
    "pca.fit(fft_ftrs)\n",
    "print pca.explained_variance_ratio_\n",
    "print \"First component: \"\n",
    "print pca.components_[0]\n",
    "print \"Second component: \"\n",
    "print pca.components_[1]\n",
    "print \"Third component: \"\n",
    "print pca.components_[2]\n",
    "\n",
    "# Transform our data\n",
    "fft_ftrs_trans = pca.transform(fft_ftrs)\n",
    "poi_scatter(fft_lbls, fft_ftrs_trans, x=1, y=2, x_label=\"pc2\", y_label=\"pc3\", size=50)"
   ]
  },
  {
   "cell_type": "code",
   "execution_count": 20,
   "metadata": {
    "collapsed": false
   },
   "outputs": [
    {
     "data": {
      "image/png": "[encoded data removed]",
      "text/plain": [
       "<matplotlib.figure.Figure at 0x10fcdfc90>"
      ]
     },
     "metadata": {},
     "output_type": "display_data"
    }
   ],
   "source": [
    "# Plot total payment and pc1\n",
    "total_pmt = np.sum(fft_ftrs, axis=1)\n",
    "poi_scatter(fft_lbls, np.column_stack((total_pmt, fft_ftrs_trans[:,0])), \n",
    "            x_label=\"total pmts\", y_label=\"pc1\", size=50)"
   ]
  },
  {
   "cell_type": "code",
   "execution_count": 21,
   "metadata": {
    "collapsed": false
   },
   "outputs": [
    {
     "data": {
      "image/png": "[encoded data removed]",
      "text/plain": [
       "<matplotlib.figure.Figure at 0x1100755d0>"
      ]
     },
     "metadata": {},
     "output_type": "display_data"
    }
   ],
   "source": [
    "# Plot total payment and pc2\n",
    "poi_scatter(fft_lbls, np.column_stack((total_pmt, fft_ftrs_trans[:,1])), \n",
    "            x_label=\"total pmts\", y_label=\"pc2\", size=50)"
   ]
  },
  {
   "cell_type": "code",
   "execution_count": 22,
   "metadata": {
    "collapsed": false
   },
   "outputs": [
    {
     "data": {
      "image/png": "[encoded data removed]",
      "text/plain": [
       "<matplotlib.figure.Figure at 0x1101e0990>"
      ]
     },
     "metadata": {},
     "output_type": "display_data"
    }
   ],
   "source": [
    "# Plot total payment and pc3\n",
    "poi_scatter(fft_lbls, np.column_stack((total_pmt, fft_ftrs_trans[:,2])), \n",
    "            x_label=\"total pmts\", y_label=\"pc3\", size=50)"
   ]
  },
  {
   "cell_type": "markdown",
   "metadata": {},
   "source": [
    "We can see that the above charts could be slightly interesting.\n",
    "\n",
    "As we would expect pc1 and total_payments correlate quite well - this is what we can say is the \"merit\" part of the payment - we would have expected that Enron would have employed a lot of smart people and so would have had to pay them well.\n",
    "\n",
    "However, the residuals are where we start to get interesting. We can think of these as latent variables not related to performance. Here we can see that when we plot pc2 and pc3 - for most people these congregate around 0 (that there in general is not much pay not related to performance. However we can see most of our POIs are actually scattered a long way from 0. This suggests that there may be something else going on with their pay."
   ]
  },
  {
   "cell_type": "markdown",
   "metadata": {},
   "source": [
    "## Using email count and text\n",
    "Having done a quick look over using financial features, we now quickly investigate text features. The rationale being that we would expect POIs to communicate with each other frequently. They may also be using specific terms to describe their \"schemes\""
   ]
  },
  {
   "cell_type": "markdown",
   "metadata": {
    "collapsed": false
   },
   "source": [
    "___\n",
    "*REWRITE?*\n",
    "\n",
    "Initially we encountered a problem when attempting to use the \"email_address\" field as this was not a number and hence created an error in featureFormat function. However this does not appear to be a huge loss as we would not expect a person's name to be a factor in whether they are a poi or not (and in real life if fed into a machine learning algorithm this may actually be \"overfitting\" data as it may be \"looking up\" the answer from other sources). Also email adresses do not specify rank which may have information value.\n",
    "\n",
    "### Classifiers to Use\n",
    "Now what we are trying to determine is whether a person is a Person of Interest (POI). This is binary label (indeed it is denoted 0 or 1 in the \"poi\" field) - so we should mainly be applying classifiers that work on discrete as opposed to continuous variables (such as regressions).\n",
    "\n",
    "### A first approach - using emails\n",
    "One approach to identifying POIs could be to use the number of emails that they send, receive or cc'd on with other POIs. Anecdotally, one would seem to be in communication with the people they work most closely with and we would expect POIs working closely to maintain their fraudulent scheme.\n",
    "___"
   ]
  },
  {
   "cell_type": "code",
   "execution_count": 23,
   "metadata": {
    "collapsed": false
   },
   "outputs": [
    {
     "name": "stdout",
     "output_type": "stream",
     "text": [
      "Sample size:  86\n",
      "Number of POIs:  14.0\n"
     ]
    }
   ],
   "source": [
    "# Using email features\n",
    "# First ensure that we have the labels which we want.\n",
    "features_list = [\"poi\", \n",
    "                 \"from_poi_to_this_person\",\n",
    "                 \"from_this_person_to_poi\",\n",
    "                 \"shared_receipt_with_poi\"]\n",
    "#features_list.extend(email_features)\n",
    "#data = featureFormat(data_dict, features_list, remove_all_zeroes=False)\n",
    "data = featureFormat(data_dict, features_list)\n",
    "labels, features = targetFeatureSplit(data) \n",
    "\n",
    "print \"Sample size: \", len(labels)\n",
    "print \"Number of POIs: \", sum(labels)"
   ]
  },
  {
   "cell_type": "markdown",
   "metadata": {},
   "source": [
    "We can see here that after removing persons with all zeros from our data set, we are left with only 14 out of our initial 18 POIs. In total, we have removed 60 persons from our 146 person sample and 4 of them being POIs. Initially, POIs were 12.3% of our sample, now they are 16.3% of our sample. It is usueful to keep this in mind when considering whether we are happy with the algorithm that we have built. In this case, we would need to investigate why there are people with no emails - it is likely that the records are incomplete - therefore we would not want the algorithm to use the lack of an emails as a flag as to whether the person is or isn't a POI."
   ]
  },
  {
   "cell_type": "code",
   "execution_count": 24,
   "metadata": {
    "collapsed": false
   },
   "outputs": [
    {
     "name": "stdout",
     "output_type": "stream",
     "text": [
      "Accuracy:  0.318181818182\n",
      "Recall:  0.666666666667\n",
      "Precision:  0.125\n"
     ]
    }
   ],
   "source": [
    "# Split our data into training and testing sets\n",
    "features_train, features_test, labels_train, labels_test = train_test_split(\n",
    "    features, labels, test_size=.25, random_state=3)\n",
    "\n",
    "# Do a quick test fit to guage the result of any outlier removal or transformation.\n",
    "# Our initial fit is to use K-Means clustering based on our theory\n",
    "from sklearn.cluster import KMeans\n",
    "clf = KMeans(n_clusters=2, max_iter=100)\n",
    "clf.fit(features_train)\n",
    "pred = clf.predict(features_test)\n",
    "\n",
    "# Create a function to test our classifier\n",
    "# More detailed stats\n",
    "def clf_test(labels, pred):\n",
    "    if len(labels) != len(pred):\n",
    "        print \"Lists not of same length\"\n",
    "        return\n",
    "    tp = 0 # True positives\n",
    "    tn = 0 # True negatives\n",
    "    fp = 0 # False positives\n",
    "    fn = 0 # False negatives\n",
    "    for i in range(len(labels)):\n",
    "        if labels[i] == pred[i]:\n",
    "            if labels[i] == 1:\n",
    "                tp += 1\n",
    "            else:\n",
    "                tn += 1\n",
    "        else:\n",
    "            if labels[i] == 0:\n",
    "                fp += 1\n",
    "            else:\n",
    "                fn += 1\n",
    "    print \"Accuracy: \", ((tp+tn) / float(len(labels)))\n",
    "    print \"Recall: \", float(tp) / (tp + fn)\n",
    "    print \"Precision: \", float(tp) / (tp + fp)\n",
    "clf_test(labels_test, pred)"
   ]
  },
  {
   "cell_type": "markdown",
   "metadata": {},
   "source": [
    "We can see that our initial attempt does quite poorly. We will see what can be causing this performance, however as we have seen the sample size is quite small and there are a low number of POIs. There could be some outliers that are affecting the performance of our algorithm."
   ]
  },
  {
   "cell_type": "code",
   "execution_count": 25,
   "metadata": {
    "collapsed": false
   },
   "outputs": [
    {
     "data": {
      "image/png": "[encoded data removed]",
      "text/plain": [
       "<matplotlib.figure.Figure at 0x10fcd3890>"
      ]
     },
     "metadata": {},
     "output_type": "display_data"
    }
   ],
   "source": [
    "### Task 2: Remove outliers\n",
    "# We plot the data to see if there are any outliers for us to plot.\n",
    "poi_x = []\n",
    "poi_y = []\n",
    "non_poi_x = []\n",
    "non_poi_y = []\n",
    "#Create arrays for outlier cleaning\n",
    "from_poi_train = []\n",
    "to_poi_train = []\n",
    "for i in range(len(labels_train)):\n",
    "    x, y, _ = features_train[i]\n",
    "    from_poi_train.append(x)\n",
    "    to_poi_train.append(y)\n",
    "    if labels_train[i] == 1:\n",
    "        poi_x.append(x)\n",
    "        poi_y.append(y)\n",
    "    elif labels_train[i] == 0:\n",
    "        non_poi_x.append(x)\n",
    "        non_poi_y.append(y)\n",
    "plt.scatter(poi_x, poi_y, color = \"r\", label = \"POI\")\n",
    "plt.scatter(non_poi_x, non_poi_y, color = \"b\", label = \"non_POI\")\n",
    "plt.legend()\n",
    "plt.xlabel(email_features[1])\n",
    "plt.ylabel(email_features[3])\n",
    "plt.savefig(\"example_poi.png\")\n",
    "plt.show()"
   ]
  },
  {
   "cell_type": "markdown",
   "metadata": {},
   "source": [
    "From the plot we can see that there seem to be significant outliers in our data set. Most of the persons in our sample have less than 100 emails sent or received from a POI - however there a few extreme outliers who are both POIs and non-POIs. We investigate these people now in our original dataset."
   ]
  },
  {
   "cell_type": "code",
   "execution_count": 26,
   "metadata": {
    "collapsed": false
   },
   "outputs": [
    {
     "name": "stdout",
     "output_type": "stream",
     "text": [
      "The following have sent or received over  300  emails from POIs\n",
      "*** BECK SALLY W  ***\n",
      "to_messages :  7315\n",
      "email_address :  sally.beck@enron.com\n",
      "from_poi_to_this_person :  144\n",
      "from_messages :  4343\n",
      "from_this_person_to_poi :  386\n",
      "shared_receipt_with_poi :  2639\n",
      "poi:  False\n",
      "*** LAVORATO JOHN J  ***\n",
      "to_messages :  7259\n",
      "email_address :  john.lavorato@enron.com\n",
      "from_poi_to_this_person :  528\n",
      "from_messages :  2585\n",
      "from_this_person_to_poi :  411\n",
      "shared_receipt_with_poi :  3962\n",
      "poi:  False\n",
      "*** DELAINEY DAVID W  ***\n",
      "to_messages :  3093\n",
      "email_address :  david.delainey@enron.com\n",
      "from_poi_to_this_person :  66\n",
      "from_messages :  3069\n",
      "from_this_person_to_poi :  609\n",
      "shared_receipt_with_poi :  2097\n",
      "poi:  True\n",
      "*** KEAN STEVEN J  ***\n",
      "to_messages :  12754\n",
      "email_address :  steven.kean@enron.com\n",
      "from_poi_to_this_person :  140\n",
      "from_messages :  6759\n",
      "from_this_person_to_poi :  387\n",
      "shared_receipt_with_poi :  3639\n",
      "poi:  False\n",
      "*** DIETRICH JANET R  ***\n",
      "to_messages :  2572\n",
      "email_address :  janet.dietrich@enron.com\n",
      "from_poi_to_this_person :  305\n",
      "from_messages :  63\n",
      "from_this_person_to_poi :  14\n",
      "shared_receipt_with_poi :  1902\n",
      "poi:  False\n"
     ]
    }
   ],
   "source": [
    "#print data_dict.keys()\n",
    "fields = [\"from_poi_to_this_person\", \"from_this_person_to_poi\"]\n",
    "crit_val = 300\n",
    "print \"The following have sent or received over \", crit_val, \" emails from POIs\"\n",
    "for person in data_dict.keys():\n",
    "    person_data = data_dict[person]\n",
    "    to_print = False\n",
    "    for f in fields:\n",
    "        if person_data[f] > crit_val and person_data[f] != \"NaN\":\n",
    "            to_print = True\n",
    "    if to_print:\n",
    "        print \"***\", person, \" ***\"\n",
    "        for email_f in email_features:\n",
    "            print email_f, \": \", person_data[email_f]\n",
    "        print \"poi: \", person_data[\"poi\"]"
   ]
  },
  {
   "cell_type": "markdown",
   "metadata": {},
   "source": [
    "We can see that most of the people with high counts are not actually POIs, however they have high email counts. \n",
    "\n",
    "*** Further research??? ***\n",
    "\n",
    "We can try removing outliers now."
   ]
  },
  {
   "cell_type": "code",
   "execution_count": 28,
   "metadata": {
    "collapsed": false,
    "scrolled": false
   },
   "outputs": [
    {
     "data": {
      "image/png": "[encoded data removed]",
      "text/plain": [
       "<matplotlib.figure.Figure at 0x1100a49d0>"
      ]
     },
     "metadata": {},
     "output_type": "display_data"
    },
    {
     "name": "stdout",
     "output_type": "stream",
     "text": [
      "\n",
      "Sample size:  58\n",
      "Number of POIs 9.0\n"
     ]
    }
   ],
   "source": [
    "# Fit a linear regression\n",
    "# Convert our data into numpy arrays\n",
    "from_poi_train = np.reshape(np.array(from_poi_train), (len(from_poi_train), 1))\n",
    "to_poi_train = np.reshape(np.array(to_poi_train), (len(to_poi_train), 1))\n",
    "\n",
    "from sklearn.linear_model import LinearRegression\n",
    "reg = LinearRegression()\n",
    "reg.fit(from_poi_train, to_poi_train)\n",
    "reg_pred = reg.predict(from_poi_train)\n",
    "\n",
    "# Remove outliers\n",
    "# Create a function to remove our outliers\n",
    "def remove_outlier(act_val, pred_val, orig_labels, orig_features, remove_percent):\n",
    "    clean_labels = []\n",
    "    clean_features = []\n",
    "    err = abs(pred_val - act_val)\n",
    "    #print err\n",
    "    rank = err.transpose().argsort()\n",
    "    remove_num = -1*int(round(remove_percent*len(err)))\n",
    "    rank = rank[0][:remove_num]\n",
    "    for i in rank:\n",
    "        clean_labels.append(orig_labels[i])\n",
    "        clean_features.append(orig_features[i])\n",
    "    return clean_labels, clean_features    \n",
    "# Clean our current training data set\n",
    "clean_labels, clean_features = remove_outlier(\n",
    "    to_poi_train, reg_pred, labels_train, features_train, 0.1)\n",
    "# Plot our data set\n",
    "c_poi_x = []\n",
    "c_poi_y = []\n",
    "c_non_poi_x = []\n",
    "c_non_poi_y = []\n",
    "for i in range(len(clean_labels)):\n",
    "    x, y, _ = clean_features[i]\n",
    "    if clean_labels[i] == 1:\n",
    "        c_poi_x.append(x)\n",
    "        c_poi_y.append(y)\n",
    "    elif clean_labels[i] == 0:\n",
    "        c_non_poi_x.append(x)\n",
    "        c_non_poi_y.append(y)\n",
    "plt.scatter(c_poi_x, c_poi_y, color = \"r\", label = \"POI\")\n",
    "plt.scatter(c_non_poi_x, c_non_poi_y, color = \"b\", label = \"non_POI\")\n",
    "plt.legend()\n",
    "plt.xlabel(\"cleaned_\"+email_features[1])\n",
    "plt.ylabel(\"cleaned_\"+email_features[3])\n",
    "plt.savefig(\"cleaned_example_poi.png\")\n",
    "plt.show()\n",
    "print \"\"\n",
    "print \"Sample size: \", len(clean_labels)\n",
    "print \"Number of POIs\", sum(clean_labels)"
   ]
  },
  {
   "cell_type": "markdown",
   "metadata": {},
   "source": [
    "We can see now that our plot is a lot cleaner, with extreme values removed. One concern however is that our data set is now quite small (only 58 persons are left in our sample, with 7 POIs). However we train our classifier now on this cleaned data set and compare."
   ]
  },
  {
   "cell_type": "code",
   "execution_count": 29,
   "metadata": {
    "collapsed": false
   },
   "outputs": [
    {
     "name": "stdout",
     "output_type": "stream",
     "text": [
      "Accuracy:  0.272727272727\n",
      "Recall:  0.666666666667\n",
      "Precision:  0.117647058824\n"
     ]
    }
   ],
   "source": [
    "# Running the classifier on our cleaned data\n",
    "clean_clf = KMeans(n_clusters=2, max_iter=100)\n",
    "clean_clf.fit(clean_features)\n",
    "clean_pred = clean_clf.predict(features_test)\n",
    "clf_test(labels_test, clean_pred)"
   ]
  },
  {
   "cell_type": "markdown",
   "metadata": {},
   "source": [
    "We note that the accuracy is up - but only marginally. This in fact could have been down to random chance and not conclusive enough given our small sample set. Overall, we see that the Recall is unchanged. Given the small numbver of POIs and the fact that if this were a real fraud identification scenario any candidates would be investigated futher, a higher Recall would be preferable.\n",
    "\n",
    "One other consideration could be to change transform our variables instead of removing outliers. This would have the advantage of leaving us with a larger training set. \n",
    "\n",
    "As we have noticed above, there are people that send lots of emails, but are not POIs. There are also people who send few emails and are not POIs. This makes sense as there are some people who would be required to send more email (administrative duties, etc). So it might be better to consider the emails sent or received from POIs as a function of total emails sent or received.\n",
    "\n",
    "In this next section we transform our sent and received fields and re-run our classifier."
   ]
  },
  {
   "cell_type": "code",
   "execution_count": 30,
   "metadata": {
    "collapsed": false
   },
   "outputs": [
    {
     "name": "stdout",
     "output_type": "stream",
     "text": [
      "{'to_messages': 3093, 'deferral_payments': 'NaN', 'expenses': 86174, 'poi': True, 'deferred_income': 'NaN', 'email_address': 'david.delainey@enron.com', 'long_term_incentive': 1294981, 'from_poi_to_this_person_ratio': 0.02133850630455868, 'restricted_stock_deferred': 'NaN', 'shared_receipt_with_poi': 2097, 'loan_advances': 'NaN', 'from_messages': 3069, 'other': 1661, 'director_fees': 'NaN', 'bonus': 3000000, 'total_stock_value': 3614261, 'from_poi_to_this_person': 66, 'from_this_person_to_poi': 609, 'restricted_stock': 1323148, 'salary': 365163, 'total_payments': 4747979, 'exercised_stock_options': 2291113, 'from_this_person_to_poi_ratio': 0.198435972629521}\n"
     ]
    }
   ],
   "source": [
    "### Task 3: Create new feature(s)\n",
    "my_dataset = data_dict\n",
    "\n",
    "for person in my_dataset.keys():\n",
    "    person_data = my_dataset[person]\n",
    "    # Create ratio for received messages\n",
    "    if person_data[\"to_messages\"] != 0 and person_data[\"to_messages\"] != \"NaN\":\n",
    "        if person_data[\"from_poi_to_this_person\"] != \"NaN\":\n",
    "            person_data[\"from_poi_to_this_person_ratio\"] = (\n",
    "                person_data[\"from_poi_to_this_person\"] / float(person_data[\"to_messages\"]))\n",
    "        else:\n",
    "            person_data[\"from_poi_to_this_person_ratio\"] = 0\n",
    "    else:\n",
    "        person_data[\"from_poi_to_this_person_ratio\"] = 0\n",
    "    # Create ratio for from messages\n",
    "    if person_data[\"from_messages\"] != 0 and person_data[\"from_messages\"] != \"NaN\":\n",
    "        if person_data[\"from_this_person_to_poi\"] != \"NaN\":\n",
    "            person_data[\"from_this_person_to_poi_ratio\"] = (\n",
    "                person_data[\"from_this_person_to_poi\"] / float(person_data[\"from_messages\"]))\n",
    "        else:\n",
    "            person_data[\"from_this_person_to_poi_ratio\"] = 0\n",
    "    else:\n",
    "        person_data[\"from_this_person_to_poi_ratio\"] = 0\n",
    "# Test a known example from above\n",
    "print my_dataset[\"DELAINEY DAVID W\"]"
   ]
  },
  {
   "cell_type": "markdown",
   "metadata": {},
   "source": [
    "We can see that we are generating correct ratios for our data. We now plot our data to see if optically we can see any improved clustering, or if we need to re-run outlier removal."
   ]
  },
  {
   "cell_type": "code",
   "execution_count": 31,
   "metadata": {
    "collapsed": false
   },
   "outputs": [
    {
     "name": "stdout",
     "output_type": "stream",
     "text": [
      "86\n",
      "14.0\n"
     ]
    },
    {
     "data": {
      "image/png": "[encoded data removed]",
      "text/plain": [
       "<matplotlib.figure.Figure at 0x1101f3790>"
      ]
     },
     "metadata": {},
     "output_type": "display_data"
    }
   ],
   "source": [
    "new_features = [\"poi\", \n",
    "                \"from_poi_to_this_person_ratio\",\n",
    "                \"from_this_person_to_poi_ratio\",\n",
    "                \"shared_receipt_with_poi\"]\n",
    "new_data = featureFormat(data_dict, new_features)\n",
    "new_labels, new_features = targetFeatureSplit(new_data) \n",
    "# Split our data into training and testing sets\n",
    "new_features_train, new_features_test, new_labels_train, new_labels_test = train_test_split(\n",
    "    new_features, new_labels, test_size=.25, random_state=3)\n",
    "# Test our new data set is consistent\n",
    "print len(new_labels)\n",
    "print sum(new_labels)\n",
    "# Plot our data\n",
    "n_poi_x = []\n",
    "n_poi_y = []\n",
    "n_non_poi_x = []\n",
    "n_non_poi_y = []\n",
    "for i in range(len(new_labels)):\n",
    "    x, y, _ = new_features[i]\n",
    "    if new_labels[i] == 1:\n",
    "        n_poi_x.append(x)\n",
    "        n_poi_y.append(y)\n",
    "    elif new_labels[i] == 0:\n",
    "        n_non_poi_x.append(x)\n",
    "        n_non_poi_y.append(y)\n",
    "plt.scatter(n_poi_x, n_poi_y, color = \"r\", label = \"POI\")\n",
    "plt.scatter(n_non_poi_x, n_non_poi_y, color = \"b\", label = \"non_POI\")\n",
    "plt.legend()\n",
    "plt.xlabel(\"from_poi_to_this_person_ratio\")\n",
    "plt.ylabel(\"from_this_person_to_poi_ratio\")\n",
    "plt.savefig(\"ratio_example_poi.png\")\n",
    "plt.show()"
   ]
  },
  {
   "cell_type": "markdown",
   "metadata": {},
   "source": [
    "This ratio is definitely an improvement! Where as before, our POIs were scattered across the plot, in this plot we can that our red POI dots are clearly clustered in the center of our plot. In previous plots using total email counts, the fact that people in different positions have differing email requirements and so the plots are being distorted by absolute numbers, converting to ratios is definitely improving our signal. Therefore I think that we do not need to run outlier removal - this has the advantage of giving us a larger data set.\n",
    "\n",
    "We now re-run our classifier to see if there is any performance improvement."
   ]
  },
  {
   "cell_type": "code",
   "execution_count": 32,
   "metadata": {
    "collapsed": false
   },
   "outputs": [
    {
     "name": "stdout",
     "output_type": "stream",
     "text": [
      "Accuracy:  0.318181818182\n",
      "Recall:  0.666666666667\n",
      "Precision:  0.125\n"
     ]
    }
   ],
   "source": [
    "new_clf = KMeans(n_clusters=2, max_iter=100)\n",
    "new_clf.fit(new_features_train)\n",
    "new_pred = new_clf.predict(new_features_test)\n",
    "clf_test(new_labels_test, new_pred)"
   ]
  },
  {
   "cell_type": "markdown",
   "metadata": {},
   "source": [
    "We can see that performance is not improved from the regular data - however, we have one last wrinkle left - that is that fact that we have a ratio and also absolute numbers in the \"shared_receipt_with_poi\" field. We re-run without this field to only have ratios and see if there is any improvement in performance."
   ]
  },
  {
   "cell_type": "code",
   "execution_count": 33,
   "metadata": {
    "collapsed": false
   },
   "outputs": [
    {
     "name": "stdout",
     "output_type": "stream",
     "text": [
      "Accuracy:  0.318181818182\n",
      "Recall:  1.0\n",
      "Precision:  0.166666666667\n"
     ]
    }
   ],
   "source": [
    "for i in range(len(new_labels)):\n",
    "    x, y, _ = new_features[i]\n",
    "    new_features[i] = [x, y]\n",
    "# Split our data into training and testing sets\n",
    "new_features_train, new_features_test, new_labels_train, new_labels_test = train_test_split(\n",
    "    new_features, new_labels, test_size=.25, random_state=3)\n",
    "new_clf = KMeans(n_clusters=2, max_iter=100)\n",
    "new_clf.fit(new_features_train)\n",
    "new_pred = new_clf.predict(new_features_test)\n",
    "clf_test(new_labels_test, new_pred)\n",
    "#print new_labels_test"
   ]
  },
  {
   "cell_type": "markdown",
   "metadata": {},
   "source": [
    "We can see that our performance in identifying POIs is actually worse. Despite that, I think that from our plot we can see the advanatges of the ratios - however we will need to supplement them with other variables. In fact, such a classifier would be far too simple.\n",
    "\n",
    "The next approach is to parse emails - one would think that POIs would leave traces of any \"schemes\" in their communications."
   ]
  },
  {
   "cell_type": "code",
   "execution_count": 38,
   "metadata": {
    "collapsed": false
   },
   "outputs": [
    {
     "name": "stdout",
     "output_type": "stream",
     "text": [
      "Parse Time:  5378.938 s\n"
     ]
    }
   ],
   "source": [
    "# Parse emails???\n",
    "#print my_dataset[\"DELAINEY DAVID W\"][\"email_address\"]\n",
    "#print my_dataset[\"DELAINEY DAVID W\"][\"poi\"]\n",
    "#from sklearn.feature_extraction.text import CountVectorizer\n",
    "from parse_out_email_text import parseOutText\n",
    "# Should we vectorise each person or the whole text?\n",
    "# Gut feel is whole corpus\n",
    "def parse_enron_email(email_list):\n",
    "    # Code to parse in email text and output vectorised data\n",
    "    # Code reproduced from vectorize_text.py\n",
    "    # Code to check if file exists\n",
    "    if os.path.isfile(\"emails_by_address/\" + email_list):\n",
    "        open_email_list = open(\"emails_by_address/\" + email_list, \"r\")\n",
    "        by_email = []\n",
    "        all_text = \"\"\n",
    "        for path in open_email_list:\n",
    "            path = os.path.join(\"..\", path[20:-1])\n",
    "            # The supplied text file appears to ref an old proj structure\n",
    "            #print path\n",
    "            email = open(path, \"r\")\n",
    "            email_text = parseOutText(email)\n",
    "            key_words = []\n",
    "            for key_word in key_words:\n",
    "                email_text = email_text.replace(key_word, \"\")\n",
    "            by_email.append(email_text)\n",
    "            #all_text += email_text\n",
    "            #all_text += \" \"\n",
    "        open_email_list.close()\n",
    "        return by_email, \" \".join(by_email)\n",
    "        # Used .join() after initial run through took 5378.938 s; compare speed\n",
    "    else:\n",
    "        return \"NaN\", \"NaN\"\n",
    "\n",
    "# Is storing the POI required in this case???\n",
    "parse_st_t = time()\n",
    "for person in my_dataset.keys():\n",
    "    person_data = my_dataset[person]\n",
    "    is_poi = person_data[\"poi\"]\n",
    "    person_email = person_data[\"email_address\"]\n",
    "    emails_from = \"from_\" + person_email + \".txt\"\n",
    "    emails_to = \"to_\"  + person_email + \".txt\"\n",
    "    # Scope to return vector based on who email is to?\n",
    "    person_data[\"from_emails\"], person_data[\"from_email_text\"] = parse_enron_email(emails_from)\n",
    "    person_data[\"to_emails\"], person_data[\"to_email_text\"] = parse_enron_email(emails_to)\n",
    "print \"Parse Time: \", round(time() - parse_st_t, 3), \"s\""
   ]
  },
  {
   "cell_type": "code",
   "execution_count": null,
   "metadata": {
    "collapsed": false
   },
   "outputs": [],
   "source": [
    "# Looking at vectorize_text.py - it appears that the format should be list of words, then label\n",
    "# Test our new features, however we have to extract manually as is a text feature\n",
    "email_labels = []\n",
    "from_email_feature = []\n",
    "to_email_feature = []\n",
    "\n",
    "feature_st_t = time()\n",
    "for person in my_dataset.keys():\n",
    "    person_data = my_dataset[person]\n",
    "    if person_data[\"poi\"]:\n",
    "        email_labels.append(1)\n",
    "    else:\n",
    "        email_labels.append(0)\n",
    "    from_email = person_data[\"from_email_text\"]\n",
    "    if from_email != \"NaN\":\n",
    "        tmp = \"\"\n",
    "        for email in from_email:\n",
    "            tmp += email\n",
    "            tmp += \" \"\n",
    "        from_email_feature.append(tmp)\n",
    "    else:\n",
    "        from_email_feature.append(\"\")\n",
    "    to_email = person_data[\"to_email_text\"]\n",
    "    if to_email != \"NaN\":\n",
    "        tmp = \"\"\n",
    "        for email in to_email:\n",
    "            tmp += email\n",
    "            tmp += \" \"\n",
    "        to_email_feature.append(tmp)\n",
    "    else:\n",
    "        to_email_feature.append(\"\")\n",
    "\n",
    "print \"Feature Creation Time: \", round(time() - feature_st_t, 3), \"s\"\n",
    "\n",
    "### CAREFUL with amending blanks as it might give the ML algorithm a false signal; i.e. \"\" belongs to a specific class."
   ]
  },
  {
   "cell_type": "code",
   "execution_count": null,
   "metadata": {
    "collapsed": false
   },
   "outputs": [],
   "source": [
    "# Feature Creation Time:  4243.189 s\n",
    "# Think of a way of adding this to the parze function?\n",
    "#!!! Read up on how to use TfidfVectorizer\n",
    "print my_dataset[\"DELAINEY DAVID W\"][\"from_email_text\"]\n",
    "#print len(email_labels)"
   ]
  },
  {
   "cell_type": "code",
   "execution_count": null,
   "metadata": {
    "collapsed": true
   },
   "outputs": [],
   "source": [
    "# Split into training and testing\n",
    "from_email_feature_train, from_email_feature_test, email_labels_train, email_labels_test = \\\n",
    "    train_test_split(from_email_feature, email_labels, test_size=0.25, random_state=3)\n",
    "\n",
    "# Code from find_signature.py\n",
    "from sklearn.feature_extraction.text import TfidfVectorizer\n",
    "vectorizer = TfidfVectorizer(sublinear_tf=True, max_df=0.5,\n",
    "                             stop_words='english')\n",
    "from_email_feature_train = vectorizer.fit_transform(from_email_feature_train)\n",
    "from_email_feature_test  = vectorizer.transform(from_email_feature_test).toarray()\n",
    "\n",
    "# PCA on our vectors???"
   ]
  },
  {
   "cell_type": "code",
   "execution_count": null,
   "metadata": {
    "collapsed": false
   },
   "outputs": [],
   "source": [
    "from sklearn import tree\n",
    "email_clf = tree.DecisionTreeClassifier()\n",
    "email_clf.fit(from_email_feature_train, email_labels_train)\n",
    "print email_clf.score(from_email_feature_train, email_labels_train)\n",
    "print email_clf.score(from_email_feature_test, email_labels_test)\n",
    "print sum(email_labels_train)\n",
    "from_email_pred = email_clf.predict(from_email_feature_test)\n",
    "clf_test(email_labels_test, from_email_pred)"
   ]
  },
  {
   "cell_type": "code",
   "execution_count": null,
   "metadata": {
    "collapsed": false
   },
   "outputs": [],
   "source": [
    "# Split into training and testing\n",
    "to_email_feature_train, to_email_feature_test, to_email_labels_train, to_email_labels_test = \\\n",
    "    train_test_split(to_email_feature, email_labels, test_size=0.25, random_state=3)\n",
    "\n",
    "# Code from find_signature.py\n",
    "from sklearn.feature_extraction.text import TfidfVectorizer\n",
    "vectorizer = TfidfVectorizer(sublinear_tf=True, max_df=0.5,\n",
    "                             stop_words='english')\n",
    "to_email_feature_train = vectorizer.fit_transform(to_email_feature_train)\n",
    "to_email_feature_test  = vectorizer.transform(to_email_feature_test).toarray()\n",
    "\n",
    "to_email_clf = tree.DecisionTreeClassifier()\n",
    "to_email_clf.fit(to_email_feature_train, to_email_labels_train)\n",
    "print email_clf.score(to_email_feature_train, to_email_labels_train)\n",
    "\n",
    "# Learn how to add text features as one element of features array\n",
    "to_email_pred = to_email_clf.predict(to_email_feature_test)\n",
    "clf_test(to_email_labels_test, to_email_pred)"
   ]
  },
  {
   "cell_type": "markdown",
   "metadata": {},
   "source": [
    "We see here that both to and from email generate decent predictions - as we would expect.\n",
    "\n",
    "However the concern remains that goven the low number of POIs in our total sample that we could generate similar results just by returning a non-POI label for the whole test set.\n",
    "\n",
    "In fact the most concerning aspect here is that the recall values are still low - all else being equal we would prefer high recall values given that our main concern is to identify POIs.\n",
    "\n",
    "We now explore financial features - however given the larger number of variables, I feel that this will be harder for me to investigate. Therefore I will export the data to a csv, so that I can perform Exploratory Data Analysis in R. Once I have visualised the data, I will return to python to implement machine learning algortihms."
   ]
  },
  {
   "cell_type": "code",
   "execution_count": null,
   "metadata": {
    "collapsed": false
   },
   "outputs": [],
   "source": [
    "extract_features = [\"poi\",\n",
    "                    \"salary\",\n",
    "                    \"deferral_payments\",\n",
    "                    \"total_payments\",\n",
    "                    \"loan_advances\",\n",
    "                    \"bonus\",\n",
    "                    \"restricted_stock_deferred\",\n",
    "                    \"deferred_income\",\n",
    "                    \"total_stock_value\",\n",
    "                    \"expenses\",\n",
    "                    \"exercised_stock_options\",\n",
    "                    \"other\",\n",
    "                    \"long_term_incentive\",\n",
    "                    \"restricted_stock\",\n",
    "                    \"director_fees\"]\n",
    "extract_data = featureFormat(data_dict, extract_features)\n",
    "np.savetxt(\"enron_financial_features.csv\", extract_data, delimiter=\",\")"
   ]
  },
  {
   "cell_type": "code",
   "execution_count": null,
   "metadata": {
    "collapsed": false
   },
   "outputs": [],
   "source": []
  },
  {
   "cell_type": "code",
   "execution_count": null,
   "metadata": {
    "collapsed": true
   },
   "outputs": [],
   "source": []
  }
 ],
 "metadata": {
  "kernelspec": {
   "display_name": "Python 2",
   "language": "python",
   "name": "python2"
  },
  "language_info": {
   "codemirror_mode": {
    "name": "ipython",
    "version": 2
   },
   "file_extension": ".py",
   "mimetype": "text/x-python",
   "name": "python",
   "nbconvert_exporter": "python",
   "pygments_lexer": "ipython2",
   "version": "2.7.13"
  }
 },
 "nbformat": 4,
 "nbformat_minor": 2
}
