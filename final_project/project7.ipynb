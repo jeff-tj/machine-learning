{
 "cells": [
  {
   "cell_type": "markdown",
   "metadata": {},
   "source": [
    "## Free Response Answers\n",
    "1. The Enron case was at the time America's largest corporate fraud - such a scheme could not have resuted without a group of people deliberately misleading people. The goal of the project was to train a machine learning algorithm over the data available to identify Persons of Interest (POIs) from a dataset that included financial data and email data from the investigation. Here we had many different fields and so the advatage of a machine learnign algortihm is its ability to find patterns in the data in many dimensions - we then are able to leverage those patterns and apply them to new datasets.\n",
    "\n",
    " On an initial explatory data analysis (EDA) sweep of the data, we see the data scraping process has picked up the \"TOTAL\" row in the data - this is an outlier that we remove. In my EDA, we also see that there are some data entry errors in  the \"restricted_stock_deferred\" for 2 persons. We also correct these errors. After this, we see that we are left with 145 people. However we have no data for \"Eugene E Lockhart\" - he is not a POI however. We could delete him from the dataset as well, however since he has no values - he will be removed by the featureFormat function. This leaves us with 144 persons, with 18 POIs. I ended up using 3 features: \"bonus\", \"salary\", \"from_this_person_to_poi_ratio\". We count the NaNs for each field: \"bonus\" has  64, \"salary\" 51 and \"from_this_person_to_poi_ratio\" has 59. These counts are quite a high proportion of our data. With the final 3 features we selected (see below) we had a sample size of 104, with 17 POIs.\n",
    "\n",
    "2. The feature that was added to the data set was to express emails to and from POIs as a ratio of total emails to and from the person. This was becasue our inital EDA showed that absolute values of emails were not very helpful - but when scaled to be expressed as a proportion of that persons's total email count, the ratio was more useful. These can be found under the dictionary keys: \"from_poi_to_this_person_ratio\" and \"from_this_person_to_poi_ratio\". We can see below that the \"from_this_person_to_poi_ratio\" was ranked by SelectKBest as the third best feature - so outperforming all other features apart from \"bonus\" and \"salary\".\n",
    "\n",
    " While some initial EDA was done, this would not be very efficient as we would be limited to looking at 2 features compared against each other at a time. Therefore we used a SelectKBest in conjunction with GridSearchCV to select the best features. SelectKBest was one of the steps fed into the GridSearchCV pipeline. The number of features (k) was then set as one of the parameters in the GridSearchCV to try all combinations of features. The best performing pipeline used 3 features - therefore we selected the top 3 ranked features. The SelectKBest ranking of features:\n",
    " >('bonus', 30.652282305660439)  \n",
    " >('salary', 15.806090087437418)  \n",
    " >('from_this_person_to_poi_ratio', 13.791413236761116)  \n",
    " >('total_stock_value', 10.814634863040405)  \n",
    " >('exercised_stock_options', 9.9561675820785211)  \n",
    " >('deferred_income', 8.4934970305461821)  \n",
    " >('restricted_stock', 8.0511018969982544)  \n",
    " >('long_term_incentive', 7.5345222400328424)  \n",
    " >('loan_advances', 7.0379327981934612)  \n",
    " >('expenses', 4.3143955730810664)  \n",
    " >('other', 3.1966845043285219)  \n",
    " >('director_fees', 1.6410979261701475)  \n",
    " >('restricted_stock_deferred', 0.70893197973324451)\n",
    " >('from_poi_to_this_person_ratio', 0.49060990360486301)  \n",
    " >('deferral_payments', 0.0098194464190455126)\n",
    " \n",
    " Feature scaling was used in the pipeline as we were testing algorithms that were variance dependent (e.g. SVC). However, in my final submission this was not used as algorithm settled on (decision tree) does not require scaling of features.\n",
    " \n",
    "3. The algorithm settled on was using a decision tree as a classifier. Other algorithms tried include: naive Bayes, support vector classifiers and k-nearest neighbours. Below we show the results of the optimal configurations found by GridSearchCV:\n",
    " >Results for gaussian\n",
    " >Test size: 44 Number of test POIs: 5\n",
    " >Accuracy:  0.840909090909\n",
    " >Recall:  0.2\n",
    " >Precision:  0.25  \n",
    " >Results for decision_tree\n",
    " >Test size: 44 Number of test POIs: 5\n",
    " >Accuracy:  0.840909090909\n",
    " >Recall:  0.6\n",
    " >Precision:  0.375  \n",
    " >Results for svm\n",
    " >Test size: 44 Number of test POIs: 5\n",
    " >Accuracy:  0.863636363636\n",
    " >Recall:  0.0\n",
    " >Precision:  0.0  \n",
    " >Results for k_neighbours\n",
    " >Test size: 44 Number of test POIs: 5\n",
    " >Accuracy:  0.886363636364\n",
    " >Recall:  0.2\n",
    " >Precision:  0.5\n",
    "\n",
    " While all algortihms delivered a similar amount of accuracy, I found that the decision tree classifier performed best at recognising POIs in the data - this was an important consideration as the number of POIs in the dataset was low.\n",
    "\n",
    "4. Tuning the parameters of an algorithm refers to determining how the algorithm makes decisions on how to classify the data points. When it comes to the decision that the algorithm makes around how to classify points, we are trying to balance the trade-off between bias and variance. If the algorithm is not properly tuned it may be hgihly biased - that is it will apply rules too generally and miss intricacies in the data. On the other hand, if tuned to finely to the parameters of the training set, the algorithm may only be alble to make good decions on data it has already seen. In both cases, we will get poor performance on a new test dataset - therefore we tune the algorithm to be responsive enough to unique cases in the data, while being able to perform well on new data sets it has not yet seen.\n",
    "\n",
    " For the decision tree, I ended up tuning the criterion and min_sample_split parameter. The criterion parameter determines how the algorithm makes a split - here we ended up specifying \"entropy\" so the algorithm makes it's decision to maximise information gain. min_sample_split determines the minimum number of samples that will allow the algortihm to split a node - if this is too small we can lead the algorithm to have high variance (i.e. it will overfit the training set), however if too high the bias of the algorithm will be too high. In tuning our algorithm we first used GridSearchCV to automate the process to find the best candidate. We then manually adjusted the, min_sample_split to give better results (here we accepted reduced accuracy for slightly high recall).\n",
    " \n",
    "5. Validation involves running the algorithm on a different validation data set, before it is run on the test data set. Without validation we could have overfit our model to training data without the algorithm being able to make accurate predictions on new data - the validation step is a check on how well the algorithm performs on different data. Here validation is achieved by splitting out data into training and validation sets using the train_test_split function. We our split is 70:30 training to validation. We can then use the validation step to tune the parameters of our algorithm. Here (as explained above) we use GridSearchCV to run cross-validation to help us find the initial parameters, before we manually tune the parameters ourselves (since we are happy to manually adjust parameters to account for the accuracy vs. recall tradeoff).\n",
    "\n",
    "6. In the analysis I used the following evaluation metrics:\n",
    "   * Accuracy (0.8409): this simply the proportion of the sample set that our algorithm correctly identifies. I think that this is the most important metric - if our algorithm consistently consistently 100% of points correctly that would be ideal - and also extremely suspicious. Therefore we also consider the following metrics.\n",
    "   * Recall (0.4000): this is the ratio of true positives over the sum true positives and false negatives. Here this is a measure of how many POIs our algorithm correctly recognised.\n",
    "   * Precision (0.3333): this ithe ration of true positives over the sum of true positives and false positves. Here we can best describe this as the probability that the a predicted POI is actually a POI (or how precise the algorithm is).\n",
    "\n",
    " Here, given that 100% accuracy is unlikely we have to make a decision about whether to favour **recall** or **precision**. This will vary from case to case and will require some judgement. So in this case, we note here that the number of POIs is emtremely low. Also being labelled by the algorithm as a POIs would not automatically give rise to legal consequences, rather it would probably signal that person should be investigated more thoroughly. Therefore, I feel it would generally be appropriate to aim for a higher **recall** at the expense of **precision**. However, precision is still important - we could simply maximise **recall** at the expense of **precision** by labelling everyone a POI - however this would mean that everyone would be investigated more thoroughly - which defeats the point of the algorithm - hence **precision** is still important.\n",
    "\n",
    "## Example Code"
   ]
  },
  {
   "cell_type": "code",
   "execution_count": 1,
   "metadata": {
    "collapsed": false
   },
   "outputs": [
    {
     "name": "stderr",
     "output_type": "stream",
     "text": [
      "/anaconda/lib/python2.7/site-packages/sklearn/cross_validation.py:44: DeprecationWarning: This module was deprecated in version 0.18 in favor of the model_selection module into which all the refactored classes and functions are moved. Also note that the interface of the new CV iterators are different from that of this module. This module will be removed in 0.20.\n",
      "  \"This module will be removed in 0.20.\", DeprecationWarning)\n"
     ]
    }
   ],
   "source": [
    "# Some examples of the exploratory analysis done\n",
    "#!/usr/bin/python\n",
    "\n",
    "import sys\n",
    "import pickle\n",
    "import numpy as np\n",
    "import matplotlib.pyplot as plt\n",
    "\n",
    "sys.path.append(\"../tools/\")\n",
    "\n",
    "from feature_format import featureFormat, targetFeatureSplit\n",
    "from tester import dump_classifier_and_data"
   ]
  },
  {
   "cell_type": "code",
   "execution_count": 2,
   "metadata": {
    "collapsed": true
   },
   "outputs": [],
   "source": [
    "# Some helpful functions\n",
    "\n",
    "# Function to quick plot\n",
    "def poi_scatter(labels, data, x=0, y=1, x_label=None, y_label=None, size=125):\n",
    "    \"\"\"\n",
    "    Function to quickly plot a scatter with poi marked out\n",
    "    Defaults to plotting the second column vs. first column\n",
    "    \"\"\"\n",
    "    n_data = len(labels)\n",
    "    x_poi = [data[ii][x] for ii in range(n_data) if labels[ii] == 1]\n",
    "    y_poi = [data[ii][y] for ii in range(n_data) if labels[ii] == 1]\n",
    "    x_npoi = [data[ii][x] for ii in range(n_data) if labels[ii] == 0]\n",
    "    y_npoi = [data[ii][y] for ii in range(n_data) if labels[ii] == 0]\n",
    "    plt.scatter(x_poi, y_poi, color=\"r\", label=\"poi\", s=size)\n",
    "    plt.scatter(x_npoi, y_npoi, color=\"b\", label=\"non_poi\", s=size)\n",
    "    plt.legend(scatterpoints=1)\n",
    "    if x_label is not None:\n",
    "        plt.xlabel(x_label)\n",
    "    if y_label is not None:\n",
    "        plt.ylabel(y_label)\n",
    "    plt.show()\n",
    "\n",
    "# Create a function to test our classifier\n",
    "# More detailed stats\n",
    "def clf_test(labels, pred):\n",
    "    if len(labels) != len(pred):\n",
    "        print \"Lists not of same length\"\n",
    "        return\n",
    "    tp = 0 # True positives\n",
    "    tn = 0 # True negatives\n",
    "    fp = 0 # False positives\n",
    "    fn = 0 # False negatives\n",
    "    for i in range(len(labels)):\n",
    "        if labels[i] == pred[i]:\n",
    "            if labels[i] == 1:\n",
    "                tp += 1\n",
    "            else:\n",
    "                tn += 1\n",
    "        else:\n",
    "            if labels[i] == 0:\n",
    "                fp += 1\n",
    "            else:\n",
    "                fn += 1\n",
    "    print \"Accuracy: \", ((tp+tn) / float(len(labels)))\n",
    "    print \"Recall: \", float(tp) / (tp + fn)\n",
    "    print \"Precision: \", float(tp) / (tp + fp)"
   ]
  },
  {
   "cell_type": "code",
   "execution_count": 3,
   "metadata": {
    "collapsed": true
   },
   "outputs": [],
   "source": [
    "### Task 1: Select what features you'll use.\n",
    "### features_list is a list of strings, each of which is a feature name.\n",
    "### The first feature must be \"poi\".\n",
    "features_list = [\"poi\",\n",
    "                 \"salary\",\n",
    "                 \"deferral_payments\",\n",
    "                 \"loan_advances\",\n",
    "                 \"bonus\",\n",
    "                 \"restricted_stock_deferred\",\n",
    "                 \"deferred_income\",\n",
    "                 \"total_stock_value\",\n",
    "                 \"expenses\",\n",
    "                 \"exercised_stock_options\",\n",
    "                 \"other\",\n",
    "                 \"long_term_incentive\",\n",
    "                 \"restricted_stock\",\n",
    "                 \"director_fees\",\n",
    "                 \"from_poi_to_this_person_ratio\",\n",
    "                 \"from_this_person_to_poi_ratio\"]\n",
    "\n",
    "### Load the dictionary containing the dataset\n",
    "with open(\"final_project_dataset.pkl\", \"r\") as data_file:\n",
    "    data_dict = pickle.load(data_file)"
   ]
  },
  {
   "cell_type": "code",
   "execution_count": 4,
   "metadata": {
    "collapsed": false
   },
   "outputs": [
    {
     "data": {
      "image/png": "[encoded data removed]",
      "text/plain": [
       "<matplotlib.figure.Figure at 0x111c6e510>"
      ]
     },
     "metadata": {},
     "output_type": "display_data"
    }
   ],
   "source": [
    "### Task 2: Remove outliers\n",
    "# Salary and bonus plot\n",
    "plot_data = featureFormat(data_dict, [\"poi\", \"salary\", \"bonus\"], sort_keys = True)\n",
    "plot_labels, plot_features = targetFeatureSplit(plot_data)\n",
    "poi_scatter(plot_labels, plot_features)"
   ]
  },
  {
   "cell_type": "code",
   "execution_count": 5,
   "metadata": {
    "collapsed": false
   },
   "outputs": [
    {
     "data": {
      "image/png": "[encoded data removed]",
      "text/plain": [
       "<matplotlib.figure.Figure at 0x119b7edd0>"
      ]
     },
     "metadata": {},
     "output_type": "display_data"
    }
   ],
   "source": [
    "# From above we realise that the \"TOTAL\" column had been included\n",
    "del data_dict[\"TOTAL\"]\n",
    "\n",
    "# Replot to be sure\n",
    "plot_data = featureFormat(data_dict, [\"poi\", \"salary\", \"bonus\"], sort_keys = True)\n",
    "plot_labels, plot_features = targetFeatureSplit(plot_data)\n",
    "poi_scatter(plot_labels, plot_features)"
   ]
  },
  {
   "cell_type": "code",
   "execution_count": 6,
   "metadata": {
    "collapsed": false
   },
   "outputs": [
    {
     "data": {
      "image/png": "[encoded data removed]",
      "text/plain": [
       "<matplotlib.figure.Figure at 0x11cd8cfd0>"
      ]
     },
     "metadata": {},
     "output_type": "display_data"
    }
   ],
   "source": [
    "# Other outliers picked up in EDA (project7_eda.Rmd)\n",
    "plot_data = featureFormat(data_dict, [\"poi\", \"restricted_stock_deferred\", \"deferred_income\"], sort_keys = True)\n",
    "plot_labels, plot_features = targetFeatureSplit(plot_data)\n",
    "poi_scatter(plot_labels, plot_features)"
   ]
  },
  {
   "cell_type": "raw",
   "metadata": {},
   "source": [
    "We see here that there appears to a large outlier for restricted_stock_deferred, going to the pay pdf document we can see all values should be negative, this looks to be clearly a data entry problem. We try to find and solve it."
   ]
  },
  {
   "cell_type": "code",
   "execution_count": 7,
   "metadata": {
    "collapsed": false
   },
   "outputs": [
    {
     "name": "stdout",
     "output_type": "stream",
     "text": [
      "Name: BELFER ROBERT\n",
      "restricted_stock_deferred : 44093\n",
      "Name: BHATNAGAR SANJAY\n",
      "restricted_stock_deferred : 15456290\n"
     ]
    }
   ],
   "source": [
    "for person in data_dict.keys():\n",
    "    person_data = data_dict[person]\n",
    "    field = \"restricted_stock_deferred\"\n",
    "    if float(person_data[field]) > 0:\n",
    "        print \"Name: %s\" % person\n",
    "        print \"%s : %s\" % (field, person_data[field])"
   ]
  },
  {
   "cell_type": "markdown",
   "metadata": {},
   "source": [
    "Here we locate 2 errors from the data entry process. The value for \"BELFER ROBERT\" has been entered without the \"-\" sign, it should be \"-44093\". The value for \"BHATNAGAR SANJAY\" should be \"-2604490\", instead of \"15456290\" which is actually his total stock value. We correct for these errors."
   ]
  },
  {
   "cell_type": "code",
   "execution_count": 8,
   "metadata": {
    "collapsed": true
   },
   "outputs": [],
   "source": [
    "### Task 3: Create new feature(s)\n",
    "### Store to my_dataset for easy export below.\n",
    "my_dataset = data_dict\n",
    "\n",
    "# Feature that expresses emails to/from poi as a ratio of total emails\n",
    "# Where there is no feature we save \"NaN\" as per featureFormat\n",
    "for person in my_dataset.keys():\n",
    "    person_data = my_dataset[person]\n",
    "    # Create ratio for received messages\n",
    "    if person_data[\"to_messages\"] != 0 and person_data[\"to_messages\"] != \"NaN\":\n",
    "        if person_data[\"from_poi_to_this_person\"] != \"NaN\":\n",
    "            person_data[\"from_poi_to_this_person_ratio\"] = (\n",
    "                person_data[\"from_poi_to_this_person\"] / float(person_data[\"to_messages\"]))\n",
    "        else:\n",
    "            person_data[\"from_poi_to_this_person_ratio\"] = \"NaN\"\n",
    "    else:\n",
    "        person_data[\"from_poi_to_this_person_ratio\"] = \"NaN\"\n",
    "    # Create ratio for from messages\n",
    "    if person_data[\"from_messages\"] != 0 and person_data[\"from_messages\"] != \"NaN\":\n",
    "        if person_data[\"from_this_person_to_poi\"] != \"NaN\":\n",
    "            person_data[\"from_this_person_to_poi_ratio\"] = (\n",
    "                person_data[\"from_this_person_to_poi\"] / float(person_data[\"from_messages\"]))\n",
    "        else:\n",
    "            person_data[\"from_this_person_to_poi_ratio\"] = \"NaN\"\n",
    "    else:\n",
    "        person_data[\"from_this_person_to_poi_ratio\"] = \"NaN\""
   ]
  },
  {
   "cell_type": "code",
   "execution_count": 9,
   "metadata": {
    "collapsed": true
   },
   "outputs": [],
   "source": [
    "# Correct errors in \"restricted_stock_deferred\"\n",
    "error_dict = {\"BELFER ROBERT\": \"-44093\",\n",
    "              \"BHATNAGAR SANJAY\": \"-2604490\"}\n",
    "for person in error_dict.keys():\n",
    "    my_dataset[person][\"restricted_stock_deferred\"] = error_dict[person]"
   ]
  },
  {
   "cell_type": "code",
   "execution_count": 10,
   "metadata": {
    "collapsed": false
   },
   "outputs": [
    {
     "data": {
      "image/png": "[encoded data removed]",
      "text/plain": [
       "<matplotlib.figure.Figure at 0x119b93510>"
      ]
     },
     "metadata": {},
     "output_type": "display_data"
    }
   ],
   "source": [
    "# Replot\n",
    "plot_data = featureFormat(my_dataset, [\"poi\", \"restricted_stock_deferred\", \"deferred_income\"], sort_keys = True)\n",
    "plot_labels, plot_features = targetFeatureSplit(plot_data)\n",
    "poi_scatter(plot_labels, plot_features)"
   ]
  },
  {
   "cell_type": "code",
   "execution_count": 11,
   "metadata": {
    "collapsed": false
   },
   "outputs": [
    {
     "name": "stdout",
     "output_type": "stream",
     "text": [
      "Total Number of People: 145\n",
      "Sample: 144\n",
      "Number of POIs: 18\n",
      "The following has no values\n",
      "Name: LOCKHART EUGENE E, POI: False\n",
      "Number of NaNs per field\n",
      "poi : 0\n",
      "salary : 51\n",
      "deferral_payments : 107\n",
      "loan_advances : 142\n",
      "bonus : 64\n",
      "restricted_stock_deferred : 128\n",
      "deferred_income : 97\n",
      "total_stock_value : 20\n",
      "expenses : 51\n",
      "exercised_stock_options : 44\n",
      "other : 53\n",
      "long_term_incentive : 80\n",
      "restricted_stock : 36\n",
      "director_fees : 129\n",
      "from_poi_to_this_person_ratio : 59\n",
      "from_this_person_to_poi_ratio : 59\n"
     ]
    }
   ],
   "source": [
    "### Extract features and labels from dataset for local testing\n",
    "data = featureFormat(my_dataset, features_list, sort_keys = True)\n",
    "labels, features = targetFeatureSplit(data)\n",
    "\n",
    "# Print some stats about our data\n",
    "print \"Total Number of People: %d\" % (len(data_dict.keys()))\n",
    "print \"Sample: %d\" % len(labels)\n",
    "print \"Number of POIs: %d\" % sum(labels)\n",
    "\n",
    "# Find who is missing?\n",
    "print \"The following has no values\"\n",
    "for person in my_dataset.keys():\n",
    "    has_value = False\n",
    "    person_data = my_dataset[person]\n",
    "    for field in person_data.keys():\n",
    "        field_val = person_data[field]\n",
    "        if field_val != 0 and field_val != \"NaN\":\n",
    "            has_value = True\n",
    "    if not has_value:\n",
    "        print \"Name: %s, POI: %r\" % (person, person_data[\"poi\"])\n",
    "        #print person_data\n",
    "\n",
    "# Audit our data fields:\n",
    "feature_dict = {}\n",
    "for field in features_list:\n",
    "    feature_dict[field] = 0\n",
    "for person in my_dataset.keys():\n",
    "    person_data = my_dataset[person]\n",
    "    for field in features_list:\n",
    "        if person_data[field] == \"NaN\":\n",
    "            feature_dict[field] += 1\n",
    "print \"Number of NaNs per field\"\n",
    "for field in features_list:\n",
    "    print \"%s : %d\" % (field, feature_dict[field])"
   ]
  },
  {
   "cell_type": "code",
   "execution_count": 12,
   "metadata": {
    "collapsed": true
   },
   "outputs": [],
   "source": [
    "### Task 4: Try a varity of classifiers\n",
    "### Please name your classifier clf for easy export below.\n",
    "### Note that if you want to do PCA or other multi-stage operations,\n",
    "### you'll need to use Pipelines. For more info:\n",
    "### http://scikit-learn.org/stable/modules/pipeline.html\n",
    "\n",
    "# Select K Best\n",
    "from sklearn.feature_selection import SelectKBest, f_classif\n",
    "selector = SelectKBest(f_classif)\n",
    "k_range = range(len(features_list))[1:] # Test all combinations\n",
    "\n",
    "# MinMax Scaler - useful for variance dependent classifiers (e.g. SVMs)\n",
    "from sklearn.preprocessing import MinMaxScaler\n",
    "scaler = MinMaxScaler()"
   ]
  },
  {
   "cell_type": "code",
   "execution_count": 13,
   "metadata": {
    "collapsed": false
   },
   "outputs": [],
   "source": [
    "# Select classifer here - loop through classifiers\n",
    "from sklearn.naive_bayes import GaussianNB\n",
    "from sklearn import tree\n",
    "from sklearn.svm import SVC\n",
    "from sklearn import neighbors\n",
    "\n",
    "clf_list = [\"gaussian\",\n",
    "            \"decision_tree\",\n",
    "            \"svm\",\n",
    "            \"k_neighbours\"]\n",
    "\n",
    "def set_clf_params(clf_name):\n",
    "    if clf_name == \"gaussian\":\n",
    "        clf = GaussianNB()\n",
    "        params = {\n",
    "            \"select__k\": k_range,\n",
    "        }\n",
    "    elif clf_name == \"decision_tree\":\n",
    "        clf = tree.DecisionTreeClassifier()\n",
    "        params = {\n",
    "            \"select__k\": k_range,\n",
    "            \"clf__criterion\": [\"entropy\", \"gini\"],\n",
    "            \"clf__min_samples_split\": [2, 10, 20, 30, 40, 50]\n",
    "        }\n",
    "    elif clf_name == \"svm\":\n",
    "        clf = SVC()\n",
    "        params = {\n",
    "            \"select__k\": k_range,\n",
    "            \"clf__kernel\": [\"linear\", \"rbf\"],\n",
    "            \"clf__C\": [1, 3, 5, 10, 20]\n",
    "        }\n",
    "    elif clf_name == \"k_neighbours\":\n",
    "        clf = neighbors.KNeighborsClassifier()\n",
    "        params = {\n",
    "            \"select__k\": k_range,\n",
    "            \"clf__weights\": [\"distance\", \"uniform\"],\n",
    "            \"clf__n_neighbors\": [3, 5, 7, 9] # With only 18 pois, can't be too high\n",
    "        }\n",
    "    else:\n",
    "        print \"No valid selection\"\n",
    "        return None\n",
    "    return clf, params\n"
   ]
  },
  {
   "cell_type": "code",
   "execution_count": 14,
   "metadata": {
    "collapsed": false
   },
   "outputs": [
    {
     "name": "stdout",
     "output_type": "stream",
     "text": [
      "Best results for gaussian\n",
      "Pipeline(steps=[('select', SelectKBest(k=1, score_func=<function f_classif at 0x119bc57d0>)), ('scaler', MinMaxScaler(copy=True, feature_range=(0, 1))), ('clf', GaussianNB(priors=None))])\n",
      "*****\n",
      "Best results for decision_tree\n",
      "Pipeline(steps=[('select', SelectKBest(k=3, score_func=<function f_classif at 0x119bc57d0>)), ('scaler', MinMaxScaler(copy=True, feature_range=(0, 1))), ('clf', DecisionTreeClassifier(class_weight=None, criterion='entropy', max_depth=None,\n",
      "            max_features=None, max_leaf_nodes=None,\n",
      "            min_impurity_split=1e-07, min_samples_leaf=1,\n",
      "            min_samples_split=30, min_weight_fraction_leaf=0.0,\n",
      "            presort=False, random_state=None, splitter='best'))])\n",
      "*****\n",
      "Best results for svm\n",
      "Pipeline(steps=[('select', SelectKBest(k=1, score_func=<function f_classif at 0x119bc57d0>)), ('scaler', MinMaxScaler(copy=True, feature_range=(0, 1))), ('clf', SVC(C=3, cache_size=200, class_weight=None, coef0=0.0,\n",
      "  decision_function_shape=None, degree=3, gamma='auto', kernel='rbf',\n",
      "  max_iter=-1, probability=False, random_state=None, shrinking=True,\n",
      "  tol=0.001, verbose=False))])\n",
      "*****\n",
      "Best results for k_neighbours\n",
      "Pipeline(steps=[('select', SelectKBest(k=1, score_func=<function f_classif at 0x119bc57d0>)), ('scaler', MinMaxScaler(copy=True, feature_range=(0, 1))), ('clf', KNeighborsClassifier(algorithm='auto', leaf_size=30, metric='minkowski',\n",
      "           metric_params=None, n_jobs=1, n_neighbors=7, p=2,\n",
      "           weights='uniform'))])\n",
      "*****\n"
     ]
    }
   ],
   "source": [
    "from sklearn.pipeline import Pipeline, FeatureUnion\n",
    "from sklearn.cross_validation import train_test_split\n",
    "from sklearn.model_selection import GridSearchCV\n",
    "# Loop through clf\n",
    "for clf_name in clf_list:\n",
    "    clf, params = set_clf_params(clf_name)\n",
    "\n",
    "    # Pipeline estimators - each should be (\"name\", estimator) format\n",
    "    \n",
    "    estimators = [(\"select\", selector),\n",
    "                  (\"scaler\", scaler),\n",
    "                  (\"clf\", clf)]\n",
    "    pipe = Pipeline(estimators)\n",
    "    #pipe.get_params().keys()\n",
    "    \n",
    "    ### Task 5: Tune your classifier to achieve better than .3 precision and recall \n",
    "    ### using our testing script. Check the tester.py script in the final project\n",
    "    ### folder for details on the evaluation method, especially the test_classifier\n",
    "    ### function. Because of the small size of the dataset, the script uses\n",
    "    ### stratified shuffle split cross validation. For more info: \n",
    "    ### http://scikit-learn.org/stable/modules/generated/sklearn.cross_validation.StratifiedShuffleSplit.html\n",
    "\n",
    "    # Example starting point. Try investigating other evaluation techniques!\n",
    "    features_train, features_test, labels_train, labels_test = \\\n",
    "        train_test_split(features, labels, test_size=0.3, random_state=42)\n",
    "\n",
    "    # GridSearchCV\n",
    "    gridsearch = GridSearchCV(pipe, param_grid=params)\n",
    "\n",
    "    gridsearch.fit(features_train, labels_train)\n",
    "    \n",
    "    print \"Best results for %s\" % clf_name\n",
    "    print gridsearch.best_estimator_\n",
    "    print \"*****\"\n",
    "\n",
    "# View results below"
   ]
  },
  {
   "cell_type": "markdown",
   "metadata": {},
   "source": [
    "The results above are slightly surprising for 3 of the algorithms, the optimal k=1 for SelectKBest. This would suggest overfitting for a single parameter. Nevertheless, without making any judgement we will test all the found optimal results. \n",
    "\n",
    "The results for decision_tree seem promising though as it selects 3 variables."
   ]
  },
  {
   "cell_type": "code",
   "execution_count": 15,
   "metadata": {
    "collapsed": false
   },
   "outputs": [
    {
     "name": "stdout",
     "output_type": "stream",
     "text": [
      "Results for gaussian\n",
      "Test size: 44 Number of test POIs: 5\n",
      "Accuracy:  0.840909090909\n",
      "Recall:  0.2\n",
      "Precision:  0.25\n",
      "*****\n",
      "Results for decision_tree\n",
      "Test size: 44 Number of test POIs: 5\n",
      "Accuracy:  0.840909090909\n",
      "Recall:  0.6\n",
      "Precision:  0.375\n",
      "*****\n",
      "Results for svm\n",
      "Test size: 44 Number of test POIs: 5\n",
      "Accuracy:  0.863636363636\n",
      "Recall:  0.0\n",
      "Precision:  0.0\n",
      "*****\n",
      "Results for k_neighbours\n",
      "Test size: 44 Number of test POIs: 5\n",
      "Accuracy:  0.886363636364\n",
      "Recall:  0.2\n",
      "Precision:  0.5\n",
      "*****\n"
     ]
    },
    {
     "name": "stderr",
     "output_type": "stream",
     "text": [
      "/anaconda/lib/python2.7/site-packages/sklearn/utils/deprecation.py:70: DeprecationWarning: Function transform is deprecated; Support to use estimators as feature selectors will be removed in version 0.19. Use SelectFromModel instead.\n",
      "  warnings.warn(msg, category=DeprecationWarning)\n"
     ]
    }
   ],
   "source": [
    "def set_optimal_clf(clf_name):\n",
    "    if clf_name == \"gaussian\":\n",
    "        selector = SelectKBest(f_classif, k=1)\n",
    "        clf = GaussianNB()\n",
    "    elif clf_name == \"decision_tree\":\n",
    "        selector = SelectKBest(f_classif, k=3)\n",
    "        clf = tree.DecisionTreeClassifier(criterion=\"entropy\", min_samples_split=30)\n",
    "    elif clf_name == \"svm\":\n",
    "        selector = SelectKBest(f_classif, k=1)\n",
    "        clf = SVC(kernel=\"rbf\", C=3)\n",
    "    elif clf_name == \"k_neighbours\":\n",
    "        selector = SelectKBest(f_classif, k=1)\n",
    "        clf = neighbors.KNeighborsClassifier(weights=\"uniform\", n_neighbors=7)\n",
    "    else:\n",
    "        print \"No valid selection\"\n",
    "        return None\n",
    "    return selector, clf\n",
    "\n",
    "for clf_name in clf_list:\n",
    "    # Set optimal selector, clf\n",
    "    selector, clf = set_optimal_clf(clf_name)\n",
    "    \n",
    "    estimators = [(\"select\", selector),\n",
    "                  (\"scaler\", scaler),\n",
    "                  (\"clf\", clf)]\n",
    "    pipe = Pipeline(estimators)\n",
    "    \n",
    "    # Setup train-test split\n",
    "    features_train, features_test, labels_train, labels_test = \\\n",
    "        train_test_split(features, labels, test_size=0.3, random_state=42)\n",
    "    \n",
    "    # Print test results\n",
    "    if clf_name == \"decision_tree\":\n",
    "        pipe.fit_transform(features_train, labels_train)\n",
    "    else:\n",
    "        pipe.fit(features_train, labels_train)\n",
    "    pred = pipe.predict(features_test)\n",
    "    \n",
    "    print \"Results for %s\" % clf_name\n",
    "    print \"Test size: %d Number of test POIs: %d\" % (len(labels_test), sum(labels_test))\n",
    "    clf_test(labels_test, pred)\n",
    "    print \"*****\"\n",
    "    "
   ]
  },
  {
   "cell_type": "markdown",
   "metadata": {},
   "source": [
    "We see that our test set is only 44 persons, with 5 POIs. Therefore returning 44 zeroes would give an accuracy of 88.6% (that is pretty much what our svm has done). Ideally we would like our algorithm to have a high recall, even at the expense of lower precision. This is because given how few POIs there are we would like to ensure that we select most of them even expense of a few more false negatives - this is because being identified by the algorithm as a POI would likely not have immediate legal consequences, but rather flag the person for further investigation (with may then show he is not a POI).\n",
    "\n",
    "One last final step however is manually tuning the algorithm. The min_samples_split parameter of 30 seems a little bit high (recall that our total sample size is 144 and out traing set is only 70% of this). This seems like that it could be overfitting the specific set we have. Trialling some lower figures on different samples, we eventually settle on a lower parameter of 15."
   ]
  },
  {
   "cell_type": "code",
   "execution_count": 16,
   "metadata": {
    "collapsed": false
   },
   "outputs": [
    {
     "name": "stdout",
     "output_type": "stream",
     "text": [
      "Features by importance from KSelectBest\n",
      "('bonus', 30.652282305660439)\n",
      "('salary', 15.806090087437418)\n",
      "('from_this_person_to_poi_ratio', 13.791413236761116)\n",
      "('total_stock_value', 10.814634863040405)\n",
      "('exercised_stock_options', 9.9561675820785211)\n",
      "('deferred_income', 8.4934970305461821)\n",
      "('restricted_stock', 8.0511018969982544)\n",
      "('long_term_incentive', 7.5345222400328424)\n",
      "('loan_advances', 7.0379327981934612)\n",
      "('expenses', 4.3143955730810664)\n",
      "('other', 3.1966845043285219)\n",
      "('director_fees', 1.6410979261701475)\n",
      "('restricted_stock_deferred', 0.70893197973324451)\n",
      "('from_poi_to_this_person_ratio', 0.49060990360486301)\n",
      "('deferral_payments', 0.0098194464190455126)\n"
     ]
    }
   ],
   "source": [
    "# Final estimator checking\n",
    "features_train, features_test, labels_train, labels_test = \\\n",
    "    train_test_split(features, labels, test_size=0.3, random_state=42)\n",
    "    \n",
    "selector = SelectKBest(f_classif, k=3)\n",
    "scaler = MinMaxScaler()\n",
    "clf = tree.DecisionTreeClassifier(criterion=\"entropy\", min_samples_split=15)\n",
    "\n",
    "fitted = selector.fit(features_train, labels_train)\n",
    "rank = np.argsort(fitted.scores_)[::-1]\n",
    "print \"Features by importance from KSelectBest\"\n",
    "for ii in rank:\n",
    "    print zip(features_list[1:], fitted.scores_)[ii]\n"
   ]
  },
  {
   "cell_type": "code",
   "execution_count": 17,
   "metadata": {
    "collapsed": false
   },
   "outputs": [
    {
     "data": {
      "image/png": "[encoded data removed]",
      "text/plain": [
       "<matplotlib.figure.Figure at 0x11ce40890>"
      ]
     },
     "metadata": {},
     "output_type": "display_data"
    }
   ],
   "source": [
    "# View top 2 visually:\n",
    "poi_scatter(labels_train, features_train, x=rank[0], y=rank[1], \\\n",
    "           x_label=features_list[1:][rank[0]], y_label=features_list[1:][rank[1]])"
   ]
  },
  {
   "cell_type": "code",
   "execution_count": 18,
   "metadata": {
    "collapsed": false
   },
   "outputs": [
    {
     "name": "stdout",
     "output_type": "stream",
     "text": [
      "Accuracy:  0.863636363636\n",
      "Recall:  0.6\n",
      "Precision:  0.428571428571\n"
     ]
    }
   ],
   "source": [
    "trans_features_train = selector.transform(features_train)\n",
    "trans_features_test = selector.transform(features_test)\n",
    "clf.fit(trans_features_train, labels_train)\n",
    "pred = clf.predict(trans_features_test)\n",
    "clf_test(labels_test, pred)"
   ]
  },
  {
   "cell_type": "code",
   "execution_count": 19,
   "metadata": {
    "collapsed": false
   },
   "outputs": [
    {
     "name": "stdout",
     "output_type": "stream",
     "text": [
      "Sample size: 104\n",
      "Number of POIs: 17\n"
     ]
    }
   ],
   "source": [
    "# Statistics for final feature selection\n",
    "final_set = [\"poi\", \"bonus\", \"salary\", \"from_this_person_to_poi_ratio\"]\n",
    "final_data = featureFormat(my_dataset, final_set, sort_keys=True)\n",
    "final_labels, final_features = targetFeatureSplit(final_data)\n",
    "print \"Sample size: %d\" % len(final_labels)\n",
    "print \"Number of POIs: %d\" % sum(final_labels)"
   ]
  },
  {
   "cell_type": "code",
   "execution_count": 20,
   "metadata": {
    "collapsed": true
   },
   "outputs": [],
   "source": [
    "### Task 6: Dump your classifier, dataset, and features_list so anyone can\n",
    "### check your results. You do not need to change anything below, but make sure\n",
    "### that the version of poi_id.py that you submit can be run on its own and\n",
    "### generates the necessary .pkl files for validating your results.\n",
    "\n",
    "#dump_classifier_and_data(clf, my_dataset, features_list)"
   ]
  }
 ],
 "metadata": {
  "kernelspec": {
   "display_name": "Python 2",
   "language": "python",
   "name": "python2"
  },
  "language_info": {
   "codemirror_mode": {
    "name": "ipython",
    "version": 2
   },
   "file_extension": ".py",
   "mimetype": "text/x-python",
   "name": "python",
   "nbconvert_exporter": "python",
   "pygments_lexer": "ipython2",
   "version": "2.7.13"
  }
 },
 "nbformat": 4,
 "nbformat_minor": 2
}
