{
 "cells": [
  {
   "cell_type": "code",
   "execution_count": 1,
   "metadata": {
    "collapsed": false
   },
   "outputs": [
    {
     "name": "stderr",
     "output_type": "stream",
     "text": [
      "/anaconda/lib/python2.7/site-packages/sklearn/cross_validation.py:44: DeprecationWarning: This module was deprecated in version 0.18 in favor of the model_selection module into which all the refactored classes and functions are moved. Also note that the interface of the new CV iterators are different from that of this module. This module will be removed in 0.20.\n",
      "  \"This module will be removed in 0.20.\", DeprecationWarning)\n"
     ]
    }
   ],
   "source": [
    "#!/usr/bin/python\n",
    "\n",
    "import sys\n",
    "import pickle\n",
    "sys.path.append(\"../tools/\")\n",
    "\n",
    "from feature_format import featureFormat, targetFeatureSplit\n",
    "from tester import dump_classifier_and_data\n",
    "\n",
    "### Task 1: Select what features you'll use.\n",
    "### features_list is a list of strings, each of which is a feature name.\n",
    "### The first feature must be \"poi\".\n",
    "features_list = [\"poi\",\n",
    "                 \"salary\",\n",
    "                 \"deferral_payments\",\n",
    "                 \"loan_advances\",\n",
    "                 \"bonus\",\n",
    "                 \"restricted_stock_deferred\",\n",
    "                 \"deferred_income\",\n",
    "                 \"total_stock_value\",\n",
    "                 \"expenses\",\n",
    "                 \"exercised_stock_options\",\n",
    "                 \"other\",\n",
    "                 \"long_term_incentive\",\n",
    "                 \"restricted_stock\",\n",
    "                 \"director_fees\",\n",
    "                 \"from_poi_to_this_person_ratio\",\n",
    "                 \"from_this_person_to_poi_ratio\"]\n",
    "\n",
    "### Load the dictionary containing the dataset\n",
    "with open(\"final_project_dataset.pkl\", \"r\") as data_file:\n",
    "    data_dict = pickle.load(data_file)\n",
    "\n",
    "### Task 2: Remove outliers\n",
    "# From previous research we realise that the \"TOTAL\" column had been included\n",
    "del data_dict[\"TOTAL\"]"
   ]
  },
  {
   "cell_type": "code",
   "execution_count": 2,
   "metadata": {
    "collapsed": true
   },
   "outputs": [],
   "source": [
    "### Task 3: Create new feature(s)\n",
    "### Store to my_dataset for easy export below.\n",
    "my_dataset = data_dict\n",
    "\n",
    "# Feature that expresses emails to/from poi as a ratio of total emails\n",
    "# Where there is no feature we save \"NaN\" as per featureFormat\n",
    "for person in my_dataset.keys():\n",
    "    person_data = my_dataset[person]\n",
    "    # Create ratio for received messages\n",
    "    if person_data[\"to_messages\"] != 0 and person_data[\"to_messages\"] != \"NaN\":\n",
    "        if person_data[\"from_poi_to_this_person\"] != \"NaN\":\n",
    "            person_data[\"from_poi_to_this_person_ratio\"] = (\n",
    "                person_data[\"from_poi_to_this_person\"] / float(person_data[\"to_messages\"]))\n",
    "        else:\n",
    "            person_data[\"from_poi_to_this_person_ratio\"] = \"NaN\"\n",
    "    else:\n",
    "        person_data[\"from_poi_to_this_person_ratio\"] = \"NaN\"\n",
    "    # Create ratio for from messages\n",
    "    if person_data[\"from_messages\"] != 0 and person_data[\"from_messages\"] != \"NaN\":\n",
    "        if person_data[\"from_this_person_to_poi\"] != \"NaN\":\n",
    "            person_data[\"from_this_person_to_poi_ratio\"] = (\n",
    "                person_data[\"from_this_person_to_poi\"] / float(person_data[\"from_messages\"]))\n",
    "        else:\n",
    "            person_data[\"from_this_person_to_poi_ratio\"] = \"NaN\"\n",
    "    else:\n",
    "        person_data[\"from_this_person_to_poi_ratio\"] = \"NaN\""
   ]
  },
  {
   "cell_type": "code",
   "execution_count": 17,
   "metadata": {
    "collapsed": true
   },
   "outputs": [],
   "source": [
    "### Extract features and labels from dataset for local testing\n",
    "data = featureFormat(my_dataset, features_list, sort_keys = True)\n",
    "labels, features = targetFeatureSplit(data)\n",
    "\n",
    "### Task 4: Try a varity of classifiers\n",
    "### Please name your classifier clf for easy export below.\n",
    "### Note that if you want to do PCA or other multi-stage operations,\n",
    "### you'll need to use Pipelines. For more info:\n",
    "### http://scikit-learn.org/stable/modules/pipeline.html\n",
    "\n",
    "# Select K Best\n",
    "from sklearn.feature_selection import SelectKBest, f_classif\n",
    "selector = SelectKBest(f_classif, k=3)"
   ]
  },
  {
   "cell_type": "code",
   "execution_count": 19,
   "metadata": {
    "collapsed": false
   },
   "outputs": [],
   "source": [
    "# Select classifer here\n",
    "from sklearn.naive_bayes import GaussianNB\n",
    "from sklearn import tree\n",
    "#clf = GaussianNB()\n",
    "clf = tree.DecisionTreeClassifier(criterion=\"entropy\", min_samples_split=30)\n",
    "\n",
    "# Pipeline estimators - each should be (\"name\", estimator) format\n",
    "from sklearn.pipeline import Pipeline, FeatureUnion\n",
    "estimators = [(\"select\", selector),\n",
    "              (\"clf\", clf)]\n",
    "pipe = Pipeline(estimators)"
   ]
  },
  {
   "cell_type": "code",
   "execution_count": 13,
   "metadata": {
    "collapsed": false
   },
   "outputs": [
    {
     "data": {
      "text/plain": [
       "['clf__class_weight',\n",
       " 'clf__splitter',\n",
       " 'clf__max_leaf_nodes',\n",
       " 'clf',\n",
       " 'clf__max_depth',\n",
       " 'select__k',\n",
       " 'clf__min_samples_leaf',\n",
       " 'clf__min_weight_fraction_leaf',\n",
       " 'clf__presort',\n",
       " 'select__score_func',\n",
       " 'steps',\n",
       " 'clf__min_samples_split',\n",
       " 'clf__min_impurity_split',\n",
       " 'clf__max_features',\n",
       " 'clf__criterion',\n",
       " 'select',\n",
       " 'clf__random_state']"
      ]
     },
     "execution_count": 13,
     "metadata": {},
     "output_type": "execute_result"
    }
   ],
   "source": [
    "pipe.get_params().keys()"
   ]
  },
  {
   "cell_type": "code",
   "execution_count": 15,
   "metadata": {
    "collapsed": false
   },
   "outputs": [
    {
     "name": "stdout",
     "output_type": "stream",
     "text": [
      "{'std_train_score': array([ 0.        ,  0.        ,  0.        ,  0.        ,  0.        ,\n",
      "        0.02522089,  0.01845457,  0.02089446,  0.02089446,  0.02089446,\n",
      "        0.01831332,  0.03885828,  0.04903801,  0.04903801,  0.04903801,\n",
      "        0.03692838,  0.04189552,  0.04189552,  0.04189552,  0.04189552,\n",
      "        0.03692838,  0.04189552,  0.04189552,  0.04189552,  0.04189552,\n",
      "        0.03692838,  0.04189552,  0.04189552,  0.04189552,  0.04189552]), 'rank_test_score': array([26, 26, 26, 17, 22, 30, 17, 17, 17, 17, 26, 13, 14, 14, 14, 22,  1,\n",
      "        1,  1,  1, 22,  1,  1,  1,  1, 22,  1,  1,  1,  1], dtype=int32), 'mean_score_time': array([ 0.00100001,  0.00060527,  0.00039864,  0.00029572,  0.00029135,\n",
      "        0.00026234,  0.00025733,  0.00026107,  0.00027704,  0.00027068,\n",
      "        0.00026393,  0.00027609,  0.00031002,  0.00025598,  0.00028499,\n",
      "        0.00027903,  0.00032473,  0.00028634,  0.0002737 ,  0.000259  ,\n",
      "        0.00028865,  0.00026631,  0.00025765,  0.00030224,  0.00025741,\n",
      "        0.00025193,  0.00025256,  0.00025503,  0.00025368,  0.00025606]), 'std_test_score': array([ 0.0128823 ,  0.05900391,  0.07150159,  0.05933379,  0.04634406,\n",
      "        0.04935231,  0.02533202,  0.06755205,  0.06755205,  0.06755205,\n",
      "        0.06166293,  0.04845381,  0.08190686,  0.08190686,  0.08190686,\n",
      "        0.06416751,  0.05404164,  0.05404164,  0.05404164,  0.05404164,\n",
      "        0.06416751,  0.05404164,  0.05404164,  0.05404164,  0.05404164,\n",
      "        0.06416751,  0.05404164,  0.05404164,  0.05404164,  0.05404164]), 'param_select__k': masked_array(data = [2 3 4 5 6 2 3 4 5 6 2 3 4 5 6 2 3 4 5 6 2 3 4 5 6 2 3 4 5 6],\n",
      "             mask = [False False False False False False False False False False False False\n",
      " False False False False False False False False False False False False\n",
      " False False False False False False],\n",
      "       fill_value = ?)\n",
      ", 'split1_train_score': array([ 1.        ,  1.        ,  1.        ,  1.        ,  1.        ,\n",
      "        0.95522388,  0.92537313,  0.92537313,  0.92537313,  0.92537313,\n",
      "        0.92537313,  0.88059701,  0.86567164,  0.86567164,  0.86567164,\n",
      "        0.86567164,  0.86567164,  0.86567164,  0.86567164,  0.86567164,\n",
      "        0.86567164,  0.86567164,  0.86567164,  0.86567164,  0.86567164,\n",
      "        0.86567164,  0.86567164,  0.86567164,  0.86567164,  0.86567164]), 'split0_test_score': array([ 0.76470588,  0.70588235,  0.67647059,  0.73529412,  0.73529412,\n",
      "        0.76470588,  0.76470588,  0.70588235,  0.70588235,  0.70588235,\n",
      "        0.76470588,  0.76470588,  0.70588235,  0.70588235,  0.70588235,\n",
      "        0.76470588,  0.76470588,  0.76470588,  0.76470588,  0.76470588,\n",
      "        0.76470588,  0.76470588,  0.76470588,  0.76470588,  0.76470588,\n",
      "        0.76470588,  0.76470588,  0.76470588,  0.76470588,  0.76470588]), 'mean_test_score': array([ 0.77,  0.77,  0.77,  0.8 ,  0.79,  0.76,  0.8 ,  0.8 ,  0.8 ,\n",
      "        0.8 ,  0.77,  0.83,  0.82,  0.82,  0.82,  0.79,  0.84,  0.84,\n",
      "        0.84,  0.84,  0.79,  0.84,  0.84,  0.84,  0.84,  0.79,  0.84,\n",
      "        0.84,  0.84,  0.84]), 'split2_train_score': array([ 1.        ,  1.        ,  1.        ,  1.        ,  1.        ,\n",
      "        0.91044776,  0.95522388,  0.92537313,  0.92537313,  0.92537313,\n",
      "        0.91044776,  0.86567164,  0.86567164,  0.86567164,  0.86567164,\n",
      "        0.89552239,  0.86567164,  0.86567164,  0.86567164,  0.86567164,\n",
      "        0.89552239,  0.86567164,  0.86567164,  0.86567164,  0.86567164,\n",
      "        0.89552239,  0.86567164,  0.86567164,  0.86567164,  0.86567164]), 'split0_train_score': array([ 1.        ,  1.        ,  1.        ,  1.        ,  1.        ,\n",
      "        0.96969697,  0.96969697,  0.96969697,  0.96969697,  0.96969697,\n",
      "        0.95454545,  0.95454545,  0.96969697,  0.96969697,  0.96969697,\n",
      "        0.95454545,  0.95454545,  0.95454545,  0.95454545,  0.95454545,\n",
      "        0.95454545,  0.95454545,  0.95454545,  0.95454545,  0.95454545,\n",
      "        0.95454545,  0.95454545,  0.95454545,  0.95454545,  0.95454545]), 'params': ({'select__k': 2, 'clf__min_samples_split': 2}, {'select__k': 3, 'clf__min_samples_split': 2}, {'select__k': 4, 'clf__min_samples_split': 2}, {'select__k': 5, 'clf__min_samples_split': 2}, {'select__k': 6, 'clf__min_samples_split': 2}, {'select__k': 2, 'clf__min_samples_split': 10}, {'select__k': 3, 'clf__min_samples_split': 10}, {'select__k': 4, 'clf__min_samples_split': 10}, {'select__k': 5, 'clf__min_samples_split': 10}, {'select__k': 6, 'clf__min_samples_split': 10}, {'select__k': 2, 'clf__min_samples_split': 20}, {'select__k': 3, 'clf__min_samples_split': 20}, {'select__k': 4, 'clf__min_samples_split': 20}, {'select__k': 5, 'clf__min_samples_split': 20}, {'select__k': 6, 'clf__min_samples_split': 20}, {'select__k': 2, 'clf__min_samples_split': 30}, {'select__k': 3, 'clf__min_samples_split': 30}, {'select__k': 4, 'clf__min_samples_split': 30}, {'select__k': 5, 'clf__min_samples_split': 30}, {'select__k': 6, 'clf__min_samples_split': 30}, {'select__k': 2, 'clf__min_samples_split': 40}, {'select__k': 3, 'clf__min_samples_split': 40}, {'select__k': 4, 'clf__min_samples_split': 40}, {'select__k': 5, 'clf__min_samples_split': 40}, {'select__k': 6, 'clf__min_samples_split': 40}, {'select__k': 2, 'clf__min_samples_split': 50}, {'select__k': 3, 'clf__min_samples_split': 50}, {'select__k': 4, 'clf__min_samples_split': 50}, {'select__k': 5, 'clf__min_samples_split': 50}, {'select__k': 6, 'clf__min_samples_split': 50}), 'std_fit_time': array([  4.32627109e-04,   2.68879318e-04,   7.21554047e-05,\n",
      "         2.18163321e-04,   1.54093797e-04,   7.11064066e-05,\n",
      "         3.55269462e-05,   4.78999217e-05,   2.04173835e-04,\n",
      "         3.31509487e-05,   9.34390636e-05,   4.73899534e-05,\n",
      "         1.02519619e-04,   3.59197985e-05,   1.42467154e-05,\n",
      "         6.58729100e-04,   1.78075998e-04,   3.51957562e-04,\n",
      "         1.34902692e-05,   4.56243437e-05,   1.80289573e-05,\n",
      "         8.77518574e-06,   8.81867321e-05,   8.02846613e-05,\n",
      "         2.55727313e-05,   5.52093329e-06,   2.84188546e-05,\n",
      "         2.07596131e-05,   3.23947208e-05,   2.82720161e-05]), 'std_score_time': array([  4.70742469e-04,   7.69449152e-05,   7.43363998e-05,\n",
      "         3.48397632e-05,   3.64980352e-05,   8.91301497e-06,\n",
      "         3.42932526e-06,   9.17834118e-06,   2.97122229e-05,\n",
      "         1.03491851e-05,   1.22980238e-05,   2.55104166e-05,\n",
      "         5.98189422e-05,   7.86741172e-07,   2.03708024e-05,\n",
      "         2.44052858e-05,   5.59672909e-05,   2.27044933e-05,\n",
      "         2.78307101e-05,   5.31458966e-06,   3.20004355e-05,\n",
      "         1.95600129e-05,   4.46606360e-06,   2.16198316e-05,\n",
      "         9.60274217e-07,   8.77806426e-07,   1.29616312e-06,\n",
      "         1.46109075e-06,   1.97566396e-06,   3.57362861e-06]), 'split2_test_score': array([ 0.75757576,  0.75757576,  0.78787879,  0.78787879,  0.78787879,\n",
      "        0.6969697 ,  0.81818182,  0.84848485,  0.84848485,  0.84848485,\n",
      "        0.6969697 ,  0.87878788,  0.87878788,  0.87878788,  0.87878788,\n",
      "        0.72727273,  0.87878788,  0.87878788,  0.87878788,  0.87878788,\n",
      "        0.72727273,  0.87878788,  0.87878788,  0.87878788,  0.87878788,\n",
      "        0.72727273,  0.87878788,  0.87878788,  0.87878788,  0.87878788]), 'param_clf__min_samples_split': masked_array(data = [2 2 2 2 2 10 10 10 10 10 20 20 20 20 20 30 30 30 30 30 40 40 40 40 40 50\n",
      " 50 50 50 50],\n",
      "             mask = [False False False False False False False False False False False False\n",
      " False False False False False False False False False False False False\n",
      " False False False False False False],\n",
      "       fill_value = ?)\n",
      ", 'mean_train_score': array([ 1.        ,  1.        ,  1.        ,  1.        ,  1.        ,\n",
      "        0.94512287,  0.95009799,  0.94014775,  0.94014775,  0.94014775,\n",
      "        0.93012212,  0.90027137,  0.90034675,  0.90034675,  0.90034675,\n",
      "        0.90524649,  0.89529625,  0.89529625,  0.89529625,  0.89529625,\n",
      "        0.90524649,  0.89529625,  0.89529625,  0.89529625,  0.89529625,\n",
      "        0.90524649,  0.89529625,  0.89529625,  0.89529625,  0.89529625]), 'mean_fit_time': array([ 0.00172289,  0.0015653 ,  0.00138998,  0.00109132,  0.00099087,\n",
      "        0.00089828,  0.00083892,  0.00087961,  0.00097919,  0.00093492,\n",
      "        0.00090297,  0.00092292,  0.00089097,  0.00087643,  0.00083399,\n",
      "        0.00140754,  0.00105635,  0.00114894,  0.00083097,  0.00086196,\n",
      "        0.00081213,  0.00080037,  0.00088239,  0.00097537,  0.00086093,\n",
      "        0.00079425,  0.00081611,  0.00083574,  0.00084893,  0.00083129]), 'split1_test_score': array([ 0.78787879,  0.84848485,  0.84848485,  0.87878788,  0.84848485,\n",
      "        0.81818182,  0.81818182,  0.84848485,  0.84848485,  0.84848485,\n",
      "        0.84848485,  0.84848485,  0.87878788,  0.87878788,  0.87878788,\n",
      "        0.87878788,  0.87878788,  0.87878788,  0.87878788,  0.87878788,\n",
      "        0.87878788,  0.87878788,  0.87878788,  0.87878788,  0.87878788,\n",
      "        0.87878788,  0.87878788,  0.87878788,  0.87878788,  0.87878788])}\n"
     ]
    }
   ],
   "source": [
    "### Task 5: Tune your classifier to achieve better than .3 precision and recall \n",
    "### using our testing script. Check the tester.py script in the final project\n",
    "### folder for details on the evaluation method, especially the test_classifier\n",
    "### function. Because of the small size of the dataset, the script uses\n",
    "### stratified shuffle split cross validation. For more info: \n",
    "### http://scikit-learn.org/stable/modules/generated/sklearn.cross_validation.StratifiedShuffleSplit.html\n",
    "\n",
    "# Example starting point. Try investigating other evaluation techniques!\n",
    "from sklearn.cross_validation import train_test_split\n",
    "features_train, features_test, labels_train, labels_test = \\\n",
    "    train_test_split(features, labels, test_size=0.3, random_state=42)\n",
    "\n",
    "# GridSearchCV\n",
    "from sklearn.model_selection import GridSearchCV\n",
    "params = {\n",
    "    \"select__k\": [2, 3, 4, 5, 6],\n",
    "    \"clf__min_samples_split\": [2, 10, 20, 30, 40, 50]\n",
    "}\n",
    "gridsearch = GridSearchCV(pipe, param_grid=params)\n",
    "\n",
    "gridsearch.fit(features_train, labels_train)\n",
    "print gridsearch.cv_results_"
   ]
  },
  {
   "cell_type": "code",
   "execution_count": 16,
   "metadata": {
    "collapsed": false
   },
   "outputs": [
    {
     "name": "stdout",
     "output_type": "stream",
     "text": [
      "Pipeline(steps=[('select', SelectKBest(k=3, score_func=<function f_classif at 0x1110d0a28>)), ('clf', DecisionTreeClassifier(class_weight=None, criterion='gini', max_depth=None,\n",
      "            max_features=None, max_leaf_nodes=None,\n",
      "            min_impurity_split=1e-07, min_samples_leaf=1,\n",
      "            min_samples_split=30, min_weight_fraction_leaf=0.0,\n",
      "            presort=False, random_state=None, splitter='best'))])\n"
     ]
    }
   ],
   "source": [
    "print gridsearch.best_estimator_\n",
    "# What features were selected?\n",
    "# Further tuning for GaussianNB"
   ]
  },
  {
   "cell_type": "code",
   "execution_count": 20,
   "metadata": {
    "collapsed": true
   },
   "outputs": [],
   "source": [
    "pipe.fit(features_train, labels_train)\n",
    "pred = pipe.predict(features_test)"
   ]
  },
  {
   "cell_type": "code",
   "execution_count": 21,
   "metadata": {
    "collapsed": false
   },
   "outputs": [
    {
     "name": "stdout",
     "output_type": "stream",
     "text": [
      "Accuracy:  0.840909090909\n",
      "Recall:  0.6\n",
      "Precision:  0.375\n"
     ]
    }
   ],
   "source": [
    "# Create a function to test our classifier\n",
    "# More detailed stats\n",
    "def clf_test(labels, pred):\n",
    "    if len(labels) != len(pred):\n",
    "        print \"Lists not of same length\"\n",
    "        return\n",
    "    tp = 0 # True positives\n",
    "    tn = 0 # True negatives\n",
    "    fp = 0 # False positives\n",
    "    fn = 0 # False negatives\n",
    "    for i in range(len(labels)):\n",
    "        if labels[i] == pred[i]:\n",
    "            if labels[i] == 1:\n",
    "                tp += 1\n",
    "            else:\n",
    "                tn += 1\n",
    "        else:\n",
    "            if labels[i] == 0:\n",
    "                fp += 1\n",
    "            else:\n",
    "                fn += 1\n",
    "    print \"Accuracy: \", ((tp+tn) / float(len(labels)))\n",
    "    print \"Recall: \", float(tp) / (tp + fn)\n",
    "    print \"Precision: \", float(tp) / (tp + fp)\n",
    "clf_test(labels_test, pred)"
   ]
  },
  {
   "cell_type": "code",
   "execution_count": null,
   "metadata": {
    "collapsed": true
   },
   "outputs": [],
   "source": [
    "    \n",
    "### Task 6: Dump your classifier, dataset, and features_list so anyone can\n",
    "### check your results. You do not need to change anything below, but make sure\n",
    "### that the version of poi_id.py that you submit can be run on its own and\n",
    "### generates the necessary .pkl files for validating your results.\n",
    "\n",
    "#dump_classifier_and_data(clf, my_dataset, features_list)"
   ]
  }
 ],
 "metadata": {
  "kernelspec": {
   "display_name": "Python 2",
   "language": "python",
   "name": "python2"
  },
  "language_info": {
   "codemirror_mode": {
    "name": "ipython",
    "version": 2
   },
   "file_extension": ".py",
   "mimetype": "text/x-python",
   "name": "python",
   "nbconvert_exporter": "python",
   "pygments_lexer": "ipython2",
   "version": "2.7.13"
  }
 },
 "nbformat": 4,
 "nbformat_minor": 2
}
